{
 "cells": [
  {
   "cell_type": "markdown",
   "metadata": {},
   "source": [
    "Recommendation System based on data from the MovieLens web site with:\n",
    "- 943 users\n",
    "- 1682 items\n",
    "- 100000 ratings"
   ]
  },
  {
   "cell_type": "markdown",
   "metadata": {},
   "source": [
    "Import necessary packages:"
   ]
  },
  {
   "cell_type": "code",
   "execution_count": 1,
   "metadata": {},
   "outputs": [],
   "source": [
    "import numpy as np\n",
    "import pandas as pd\n",
    "import seaborn as sns\n",
    "import os"
   ]
  },
  {
   "cell_type": "markdown",
   "metadata": {},
   "source": [
    "Create a function to read the original dataset:"
   ]
  },
  {
   "cell_type": "code",
   "execution_count": 2,
   "metadata": {},
   "outputs": [
    {
     "data": {
      "text/html": [
       "<div>\n",
       "<style scoped>\n",
       "    .dataframe tbody tr th:only-of-type {\n",
       "        vertical-align: middle;\n",
       "    }\n",
       "\n",
       "    .dataframe tbody tr th {\n",
       "        vertical-align: top;\n",
       "    }\n",
       "\n",
       "    .dataframe thead th {\n",
       "        text-align: right;\n",
       "    }\n",
       "</style>\n",
       "<table border=\"1\" class=\"dataframe\">\n",
       "  <thead>\n",
       "    <tr style=\"text-align: right;\">\n",
       "      <th></th>\n",
       "      <th>user_id</th>\n",
       "      <th>item_id</th>\n",
       "      <th>rating</th>\n",
       "      <th>timestamp</th>\n",
       "    </tr>\n",
       "  </thead>\n",
       "  <tbody>\n",
       "    <tr>\n",
       "      <th>0</th>\n",
       "      <td>186</td>\n",
       "      <td>302</td>\n",
       "      <td>3</td>\n",
       "      <td>891717742</td>\n",
       "    </tr>\n",
       "    <tr>\n",
       "      <th>1</th>\n",
       "      <td>22</td>\n",
       "      <td>377</td>\n",
       "      <td>1</td>\n",
       "      <td>878887116</td>\n",
       "    </tr>\n",
       "    <tr>\n",
       "      <th>2</th>\n",
       "      <td>244</td>\n",
       "      <td>51</td>\n",
       "      <td>2</td>\n",
       "      <td>880606923</td>\n",
       "    </tr>\n",
       "    <tr>\n",
       "      <th>3</th>\n",
       "      <td>166</td>\n",
       "      <td>346</td>\n",
       "      <td>1</td>\n",
       "      <td>886397596</td>\n",
       "    </tr>\n",
       "    <tr>\n",
       "      <th>4</th>\n",
       "      <td>298</td>\n",
       "      <td>474</td>\n",
       "      <td>4</td>\n",
       "      <td>884182806</td>\n",
       "    </tr>\n",
       "  </tbody>\n",
       "</table>\n",
       "</div>"
      ],
      "text/plain": [
       "   user_id  item_id  rating  timestamp\n",
       "0      186      302       3  891717742\n",
       "1       22      377       1  878887116\n",
       "2      244       51       2  880606923\n",
       "3      166      346       1  886397596\n",
       "4      298      474       4  884182806"
      ]
     },
     "execution_count": 2,
     "metadata": {},
     "output_type": "execute_result"
    }
   ],
   "source": [
    "\n",
    "columns = [\"user_id\", \"item_id\", \"rating\", \"timestamp\"]\n",
    "# Function to read textfile dataset and load it as a Pandas DataFrame\n",
    "def loadData(file, columns):\n",
    "    df = pd.read_table(file, sep='\\t')\n",
    "    df.columns = columns\n",
    "    return df\n",
    "\n",
    "u_data = loadData(\"/Users/patrick.orourke/Desktop/ml-100k/u.data\",columns)\n",
    "u_data.head(5)"
   ]
  },
  {
   "cell_type": "markdown",
   "metadata": {},
   "source": [
    "Find the shape of the loaded dataset:"
   ]
  },
  {
   "cell_type": "code",
   "execution_count": 3,
   "metadata": {},
   "outputs": [
    {
     "data": {
      "text/plain": [
       "(99999, 4)"
      ]
     },
     "execution_count": 3,
     "metadata": {},
     "output_type": "execute_result"
    }
   ],
   "source": [
    "u_data.shape"
   ]
  },
  {
   "cell_type": "markdown",
   "metadata": {},
   "source": [
    "Find the number of unique elements in each column of the dataset:"
   ]
  },
  {
   "cell_type": "code",
   "execution_count": 4,
   "metadata": {},
   "outputs": [
    {
     "name": "stdout",
     "output_type": "stream",
     "text": [
      "The number of unique users in the data:  943\n",
      "The number of unique movies in the data:  1682\n",
      "The number of unique ratings in the data:  5\n",
      "The number of unique timestamps in the data:  49282\n"
     ]
    }
   ],
   "source": [
    "print(\"The number of unique users in the data: \", u_data['user_id'].nunique())\n",
    "print(\"The number of unique movies in the data: \", u_data['item_id'].nunique())\n",
    "print(\"The number of unique ratings in the data: \", u_data['rating'].nunique())\n",
    "print(\"The number of unique timestamps in the data: \", u_data['timestamp'].nunique())"
   ]
  },
  {
   "cell_type": "markdown",
   "metadata": {},
   "source": [
    "Examine the distribution of the movie ratings by generating a bar chart:"
   ]
  },
  {
   "cell_type": "code",
   "execution_count": 5,
   "metadata": {},
   "outputs": [
    {
     "data": {
      "text/plain": [
       "<matplotlib.axes._subplots.AxesSubplot at 0x1a23ef4c18>"
      ]
     },
     "execution_count": 5,
     "metadata": {},
     "output_type": "execute_result"
    },
    {
     "data": {
      "image/png": "[encoded data removed]",
      "text/plain": [
       "<Figure size 432x288 with 1 Axes>"
      ]
     },
     "metadata": {
      "needs_background": "light"
     },
     "output_type": "display_data"
    }
   ],
   "source": [
    "# Examine the distribution of movie ratings\n",
    "import matplotlib.pyplot as plt\n",
    "#pd.options.display.mpl_style = 'default'\n",
    "# u_data['rating'].plot(kind='hist')\n",
    "sns.countplot(u_data['rating'], color='gray')"
   ]
  },
  {
   "cell_type": "code",
   "execution_count": 6,
   "metadata": {},
   "outputs": [
    {
     "data": {
      "text/plain": [
       "<matplotlib.axes._subplots.AxesSubplot at 0x1a23e95128>"
      ]
     },
     "execution_count": 6,
     "metadata": {},
     "output_type": "execute_result"
    },
    {
     "data": {
      "image/png": "[encoded data removed]",
      "text/plain": [
       "<Figure size 432x288 with 1 Axes>"
      ]
     },
     "metadata": {
      "needs_background": "light"
     },
     "output_type": "display_data"
    }
   ],
   "source": [
    "u_data['rating'].value_counts().plot(kind='bar')"
   ]
  },
  {
   "cell_type": "markdown",
   "metadata": {},
   "source": [
    "Generate the number of elemens for each column of the dataset:"
   ]
  },
  {
   "cell_type": "code",
   "execution_count": 7,
   "metadata": {},
   "outputs": [
    {
     "data": {
      "text/plain": [
       "<matplotlib.axes._subplots.AxesSubplot at 0x1a25a92b00>"
      ]
     },
     "execution_count": 7,
     "metadata": {},
     "output_type": "execute_result"
    },
    {
     "data": {
      "image/png": "[encoded data removed]",
      "text/plain": [
       "<Figure size 432x288 with 1 Axes>"
      ]
     },
     "metadata": {
      "needs_background": "light"
     },
     "output_type": "display_data"
    }
   ],
   "source": [
    "u_data['rating'].value_counts().plot(kind='barh')"
   ]
  },
  {
   "cell_type": "code",
   "execution_count": 8,
   "metadata": {},
   "outputs": [],
   "source": [
    "# Build Recommendation Engine"
   ]
  },
  {
   "cell_type": "code",
   "execution_count": 9,
   "metadata": {},
   "outputs": [
    {
     "data": {
      "text/html": [
       "<div>\n",
       "<style scoped>\n",
       "    .dataframe tbody tr th:only-of-type {\n",
       "        vertical-align: middle;\n",
       "    }\n",
       "\n",
       "    .dataframe tbody tr th {\n",
       "        vertical-align: top;\n",
       "    }\n",
       "\n",
       "    .dataframe thead th {\n",
       "        text-align: right;\n",
       "    }\n",
       "</style>\n",
       "<table border=\"1\" class=\"dataframe\">\n",
       "  <thead>\n",
       "    <tr style=\"text-align: right;\">\n",
       "      <th></th>\n",
       "      <th>user_id</th>\n",
       "      <th>item_id</th>\n",
       "      <th>rating</th>\n",
       "    </tr>\n",
       "  </thead>\n",
       "  <tbody>\n",
       "    <tr>\n",
       "      <th>0</th>\n",
       "      <td>186</td>\n",
       "      <td>302</td>\n",
       "      <td>3</td>\n",
       "    </tr>\n",
       "    <tr>\n",
       "      <th>1</th>\n",
       "      <td>22</td>\n",
       "      <td>377</td>\n",
       "      <td>1</td>\n",
       "    </tr>\n",
       "    <tr>\n",
       "      <th>2</th>\n",
       "      <td>244</td>\n",
       "      <td>51</td>\n",
       "      <td>2</td>\n",
       "    </tr>\n",
       "    <tr>\n",
       "      <th>3</th>\n",
       "      <td>166</td>\n",
       "      <td>346</td>\n",
       "      <td>1</td>\n",
       "    </tr>\n",
       "    <tr>\n",
       "      <th>4</th>\n",
       "      <td>298</td>\n",
       "      <td>474</td>\n",
       "      <td>4</td>\n",
       "    </tr>\n",
       "  </tbody>\n",
       "</table>\n",
       "</div>"
      ],
      "text/plain": [
       "   user_id  item_id  rating\n",
       "0      186      302       3\n",
       "1       22      377       1\n",
       "2      244       51       2\n",
       "3      166      346       1\n",
       "4      298      474       4"
      ]
     },
     "execution_count": 9,
     "metadata": {},
     "output_type": "execute_result"
    }
   ],
   "source": [
    "tempData = u_data[['user_id', 'item_id', 'rating']]\n",
    "tempData.head(5)"
   ]
  },
  {
   "cell_type": "markdown",
   "metadata": {},
   "source": [
    "Create a Pandas Dataframe which shows the relationship of users and movies.\n",
    "Subtract the mean of each row to scala the rows."
   ]
  },
  {
   "cell_type": "code",
   "execution_count": 10,
   "metadata": {},
   "outputs": [
    {
     "data": {
      "text/plain": [
       "(943, 1682)"
      ]
     },
     "execution_count": 10,
     "metadata": {},
     "output_type": "execute_result"
    }
   ],
   "source": [
    "#userItemDF = pd.pivot_table(data = tempData,\n",
    "#                            index='user_id', columns='item_id', fill_value='rating')\n",
    "#userItemDF.head()\n",
    "\n",
    "userItemDF = pd.pivot_table(data = tempData, \n",
    "                            index='user_id', \n",
    "                            columns='item_id',\n",
    "                            fill_value=0,\n",
    "                            values = 'rating')\n",
    "\n",
    "userItemMatrix = userItemDF.apply(func= lambda x: x - np.mean(x), axis = 1)\n",
    "userItemMatrix = userItemDF.values.astype(float)\n",
    "userItemMatrix.shape"
   ]
  },
  {
   "cell_type": "markdown",
   "metadata": {},
   "source": [
    "Look at the fitsy 5 rows of the userItemMatrix:"
   ]
  },
  {
   "cell_type": "code",
   "execution_count": 11,
   "metadata": {},
   "outputs": [
    {
     "data": {
      "text/plain": [
       "array([[5., 3., 4., ..., 0., 0., 0.],\n",
       "       [4., 0., 0., ..., 0., 0., 0.],\n",
       "       [0., 0., 0., ..., 0., 0., 0.],\n",
       "       [0., 0., 0., ..., 0., 0., 0.],\n",
       "       [4., 3., 0., ..., 0., 0., 0.]])"
      ]
     },
     "execution_count": 11,
     "metadata": {},
     "output_type": "execute_result"
    }
   ],
   "source": [
    "userItemMatrix[:5,:]"
   ]
  },
  {
   "cell_type": "code",
   "execution_count": 12,
   "metadata": {},
   "outputs": [
    {
     "name": "stdout",
     "output_type": "stream",
     "text": [
      "Shape of the user item matrix:  (943, 1682)\n"
     ]
    }
   ],
   "source": [
    "print(\"Shape of the user item matrix: \", userItemDF.shape)"
   ]
  },
  {
   "cell_type": "code",
   "execution_count": 13,
   "metadata": {},
   "outputs": [],
   "source": [
    "## Number of ratings by user\n",
    "top_users = np.sum(userItemMatrix, axis = 1).argsort()[-10:][::-1]\n",
    "top_bought_bonds =  np.sum(userItemMatrix, axis = 0).argsort()[-10:][::-1]"
   ]
  },
  {
   "cell_type": "code",
   "execution_count": null,
   "metadata": {},
   "outputs": [],
   "source": []
  },
  {
   "cell_type": "code",
   "execution_count": 14,
   "metadata": {},
   "outputs": [],
   "source": [
    "# Top users which purchased different movies"
   ]
  },
  {
   "cell_type": "code",
   "execution_count": 15,
   "metadata": {},
   "outputs": [
    {
     "data": {
      "text/plain": [
       "Int64Index([450, 655, 13, 416, 276, 303, 7, 846, 59, 234], dtype='int64', name='user_id')"
      ]
     },
     "execution_count": 15,
     "metadata": {},
     "output_type": "execute_result"
    }
   ],
   "source": [
    "userItemDF.iloc[top_users].index"
   ]
  },
  {
   "cell_type": "code",
   "execution_count": 16,
   "metadata": {},
   "outputs": [],
   "source": [
    "# Measuring sparsity from the user item matrix"
   ]
  },
  {
   "cell_type": "code",
   "execution_count": 17,
   "metadata": {},
   "outputs": [
    {
     "name": "stdout",
     "output_type": "stream",
     "text": [
      "sparsity percentage:  0.4837254614121949\n"
     ]
    }
   ],
   "source": [
    "cnt_of_zero_cells = np.sum(userItemMatrix == 0)\n",
    "cnt_of_one_cells = np.sum(userItemMatrix >= 0)\n",
    "print(\"sparsity percentage: \", cnt_of_zero_cells/(cnt_of_zero_cells + cnt_of_one_cells))"
   ]
  },
  {
   "cell_type": "code",
   "execution_count": 18,
   "metadata": {},
   "outputs": [],
   "source": [
    "from scipy.sparse.linalg import svds\n",
    "from sklearn.decomposition import TruncatedSVD, NMF\n",
    "from sklearn.metrics.pairwise import cosine_similarity\n",
    "from scipy.sparse.linalg import svds"
   ]
  },
  {
   "cell_type": "code",
   "execution_count": 19,
   "metadata": {},
   "outputs": [],
   "source": [
    "# Truncated SVD (like LSA probabilistic matrix factorization)"
   ]
  },
  {
   "cell_type": "code",
   "execution_count": 20,
   "metadata": {},
   "outputs": [
    {
     "data": {
      "text/plain": [
       "(150, 1682)"
      ]
     },
     "execution_count": 20,
     "metadata": {},
     "output_type": "execute_result"
    }
   ],
   "source": [
    "U, s, Vt = svds(userItemMatrix, k=150)\n",
    "Vt.shape\n",
    "# For user-user .... use U\n",
    "\n",
    "# i = np.random.randint(low = 0, high=1070, size = 1)[0]\n",
    "#reconstructed_matrix = np.matmul(np.matmul(U, np.diag(s)), Vt)\n",
    "# print(\"decomposed sum: \", sum(reconstructed_matrix[i]))\n",
    "# print(\"original sum: \", sum(userItemMatrix[i]))\n",
    "# print(\"RMSE: \", np.sqrt(np.mean((userItemMatrix - reconstructed_matrix) ** 2)))\n",
    "\n",
    "#svd = SVD(n_components=150, algorithm=\"randomized\", n_iter=10, random_state=100)\n",
    "#user_matrix = svd.fit_transform(userItemMatrix)\n",
    "#print(\"User matrix shape: \", user_matrix.shape)\n",
    "#print(\"Total explained variance percentage by selected components: \", np.sum(svd.explained_variance_ratio_) * 100.0)\n",
    "#item_matrix = np.matmul(np.diag(svd.singular_values_), svd.components_).T\n",
    "#item_matrix = np.matmul(userItemMatrix.T, np.matmul(user_matrix ,np.diag(svd.singular_values_)))\n",
    "#print(\"Item matrix shape: \", item_matrix.shape)"
   ]
  },
  {
   "cell_type": "code",
   "execution_count": 21,
   "metadata": {},
   "outputs": [],
   "source": [
    "# ?? How was corrDF defined?"
   ]
  },
  {
   "cell_type": "code",
   "execution_count": 22,
   "metadata": {},
   "outputs": [
    {
     "data": {
      "text/html": [
       "<div>\n",
       "<style scoped>\n",
       "    .dataframe tbody tr th:only-of-type {\n",
       "        vertical-align: middle;\n",
       "    }\n",
       "\n",
       "    .dataframe tbody tr th {\n",
       "        vertical-align: top;\n",
       "    }\n",
       "\n",
       "    .dataframe thead th {\n",
       "        text-align: right;\n",
       "    }\n",
       "</style>\n",
       "<table border=\"1\" class=\"dataframe\">\n",
       "  <thead>\n",
       "    <tr style=\"text-align: right;\">\n",
       "      <th>item_id</th>\n",
       "      <th>1</th>\n",
       "      <th>2</th>\n",
       "      <th>3</th>\n",
       "      <th>4</th>\n",
       "      <th>5</th>\n",
       "      <th>6</th>\n",
       "      <th>7</th>\n",
       "      <th>8</th>\n",
       "      <th>9</th>\n",
       "      <th>10</th>\n",
       "      <th>...</th>\n",
       "      <th>1673</th>\n",
       "      <th>1674</th>\n",
       "      <th>1675</th>\n",
       "      <th>1676</th>\n",
       "      <th>1677</th>\n",
       "      <th>1678</th>\n",
       "      <th>1679</th>\n",
       "      <th>1680</th>\n",
       "      <th>1681</th>\n",
       "      <th>1682</th>\n",
       "    </tr>\n",
       "    <tr>\n",
       "      <th>item_id</th>\n",
       "      <th></th>\n",
       "      <th></th>\n",
       "      <th></th>\n",
       "      <th></th>\n",
       "      <th></th>\n",
       "      <th></th>\n",
       "      <th></th>\n",
       "      <th></th>\n",
       "      <th></th>\n",
       "      <th></th>\n",
       "      <th></th>\n",
       "      <th></th>\n",
       "      <th></th>\n",
       "      <th></th>\n",
       "      <th></th>\n",
       "      <th></th>\n",
       "      <th></th>\n",
       "      <th></th>\n",
       "      <th></th>\n",
       "      <th></th>\n",
       "      <th></th>\n",
       "    </tr>\n",
       "  </thead>\n",
       "  <tbody>\n",
       "    <tr>\n",
       "      <th>1</th>\n",
       "      <td>1.000000</td>\n",
       "      <td>0.040109</td>\n",
       "      <td>-0.010311</td>\n",
       "      <td>0.025244</td>\n",
       "      <td>-0.056239</td>\n",
       "      <td>0.031500</td>\n",
       "      <td>-0.006896</td>\n",
       "      <td>-0.018654</td>\n",
       "      <td>0.014580</td>\n",
       "      <td>0.059609</td>\n",
       "      <td>...</td>\n",
       "      <td>0.038575</td>\n",
       "      <td>-0.024017</td>\n",
       "      <td>-0.050575</td>\n",
       "      <td>-0.050575</td>\n",
       "      <td>0.033138</td>\n",
       "      <td>0.049797</td>\n",
       "      <td>0.049797</td>\n",
       "      <td>0.049797</td>\n",
       "      <td>0.016134</td>\n",
       "      <td>0.052618</td>\n",
       "    </tr>\n",
       "    <tr>\n",
       "      <th>2</th>\n",
       "      <td>0.040109</td>\n",
       "      <td>1.000000</td>\n",
       "      <td>-0.016780</td>\n",
       "      <td>0.065758</td>\n",
       "      <td>-0.042892</td>\n",
       "      <td>0.126013</td>\n",
       "      <td>-0.002664</td>\n",
       "      <td>-0.094529</td>\n",
       "      <td>-0.004159</td>\n",
       "      <td>0.016922</td>\n",
       "      <td>...</td>\n",
       "      <td>0.105296</td>\n",
       "      <td>-0.110598</td>\n",
       "      <td>-0.052890</td>\n",
       "      <td>-0.052890</td>\n",
       "      <td>0.029045</td>\n",
       "      <td>-0.043946</td>\n",
       "      <td>-0.043946</td>\n",
       "      <td>-0.043946</td>\n",
       "      <td>0.019092</td>\n",
       "      <td>0.009707</td>\n",
       "    </tr>\n",
       "    <tr>\n",
       "      <th>3</th>\n",
       "      <td>-0.010311</td>\n",
       "      <td>-0.016780</td>\n",
       "      <td>1.000000</td>\n",
       "      <td>-0.012935</td>\n",
       "      <td>-0.071125</td>\n",
       "      <td>-0.018411</td>\n",
       "      <td>-0.023646</td>\n",
       "      <td>-0.026627</td>\n",
       "      <td>0.021597</td>\n",
       "      <td>0.056490</td>\n",
       "      <td>...</td>\n",
       "      <td>0.092386</td>\n",
       "      <td>0.063366</td>\n",
       "      <td>-0.005213</td>\n",
       "      <td>-0.005213</td>\n",
       "      <td>0.173008</td>\n",
       "      <td>0.021112</td>\n",
       "      <td>0.021112</td>\n",
       "      <td>0.021112</td>\n",
       "      <td>-0.067158</td>\n",
       "      <td>0.070885</td>\n",
       "    </tr>\n",
       "    <tr>\n",
       "      <th>4</th>\n",
       "      <td>0.025244</td>\n",
       "      <td>0.065758</td>\n",
       "      <td>-0.012935</td>\n",
       "      <td>1.000000</td>\n",
       "      <td>0.007296</td>\n",
       "      <td>-0.062350</td>\n",
       "      <td>-0.048994</td>\n",
       "      <td>0.003986</td>\n",
       "      <td>0.102691</td>\n",
       "      <td>-0.024588</td>\n",
       "      <td>...</td>\n",
       "      <td>-0.004088</td>\n",
       "      <td>-0.051162</td>\n",
       "      <td>0.110311</td>\n",
       "      <td>0.110311</td>\n",
       "      <td>-0.047873</td>\n",
       "      <td>0.000813</td>\n",
       "      <td>0.000813</td>\n",
       "      <td>0.000813</td>\n",
       "      <td>-0.011099</td>\n",
       "      <td>0.044613</td>\n",
       "    </tr>\n",
       "    <tr>\n",
       "      <th>5</th>\n",
       "      <td>-0.056239</td>\n",
       "      <td>-0.042892</td>\n",
       "      <td>-0.071125</td>\n",
       "      <td>0.007296</td>\n",
       "      <td>1.000000</td>\n",
       "      <td>0.042605</td>\n",
       "      <td>-0.052533</td>\n",
       "      <td>0.000499</td>\n",
       "      <td>0.024171</td>\n",
       "      <td>-0.145256</td>\n",
       "      <td>...</td>\n",
       "      <td>-0.062187</td>\n",
       "      <td>-0.020264</td>\n",
       "      <td>0.007201</td>\n",
       "      <td>0.007201</td>\n",
       "      <td>-0.052948</td>\n",
       "      <td>-0.002688</td>\n",
       "      <td>-0.002688</td>\n",
       "      <td>-0.002688</td>\n",
       "      <td>0.040368</td>\n",
       "      <td>0.226578</td>\n",
       "    </tr>\n",
       "  </tbody>\n",
       "</table>\n",
       "<p>5 rows × 1682 columns</p>\n",
       "</div>"
      ],
      "text/plain": [
       "item_id      1         2         3         4         5         6         7     \\\n",
       "item_id                                                                         \n",
       "1        1.000000  0.040109 -0.010311  0.025244 -0.056239  0.031500 -0.006896   \n",
       "2        0.040109  1.000000 -0.016780  0.065758 -0.042892  0.126013 -0.002664   \n",
       "3       -0.010311 -0.016780  1.000000 -0.012935 -0.071125 -0.018411 -0.023646   \n",
       "4        0.025244  0.065758 -0.012935  1.000000  0.007296 -0.062350 -0.048994   \n",
       "5       -0.056239 -0.042892 -0.071125  0.007296  1.000000  0.042605 -0.052533   \n",
       "\n",
       "item_id      8         9         10      ...         1673      1674      1675  \\\n",
       "item_id                                  ...                                    \n",
       "1       -0.018654  0.014580  0.059609    ...     0.038575 -0.024017 -0.050575   \n",
       "2       -0.094529 -0.004159  0.016922    ...     0.105296 -0.110598 -0.052890   \n",
       "3       -0.026627  0.021597  0.056490    ...     0.092386  0.063366 -0.005213   \n",
       "4        0.003986  0.102691 -0.024588    ...    -0.004088 -0.051162  0.110311   \n",
       "5        0.000499  0.024171 -0.145256    ...    -0.062187 -0.020264  0.007201   \n",
       "\n",
       "item_id      1676      1677      1678      1679      1680      1681      1682  \n",
       "item_id                                                                        \n",
       "1       -0.050575  0.033138  0.049797  0.049797  0.049797  0.016134  0.052618  \n",
       "2       -0.052890  0.029045 -0.043946 -0.043946 -0.043946  0.019092  0.009707  \n",
       "3       -0.005213  0.173008  0.021112  0.021112  0.021112 -0.067158  0.070885  \n",
       "4        0.110311 -0.047873  0.000813  0.000813  0.000813 -0.011099  0.044613  \n",
       "5        0.007201 -0.052948 -0.002688 -0.002688 -0.002688  0.040368  0.226578  \n",
       "\n",
       "[5 rows x 1682 columns]"
      ]
     },
     "execution_count": 22,
     "metadata": {},
     "output_type": "execute_result"
    }
   ],
   "source": [
    "#corrDF = pd.DataFrame(data = np.corrcoef(item_matrix), columns=userItemDF.columns)\n",
    "from sklearn.metrics.pairwise import cosine_similarity\n",
    "corrDF = cosine_similarity(X = Vt.T)\n",
    "corrDF.shape\n",
    "corrDF = pd.DataFrame(data=corrDF, columns=userItemDF.columns, index=userItemDF.columns)\n",
    "# Columns = items, indexes =. users .... use latter for user-user\n",
    "corrDF.head()"
   ]
  },
  {
   "cell_type": "code",
   "execution_count": null,
   "metadata": {},
   "outputs": [],
   "source": []
  },
  {
   "cell_type": "code",
   "execution_count": 50,
   "metadata": {},
   "outputs": [
    {
     "name": "stderr",
     "output_type": "stream",
     "text": [
      "/Users/patrick.orourke/anaconda3/lib/python3.7/site-packages/scipy/stats/stats.py:1713: FutureWarning: Using a non-tuple sequence for multidimensional indexing is deprecated; use `arr[tuple(seq)]` instead of `arr[seq]`. In the future this will be interpreted as an array index, `arr[np.array(seq)]`, which will result either in an error or a different result.\n",
      "  return np.add.reduce(sorted[indexer] * weights, axis=axis) / sumval\n"
     ]
    },
    {
     "data": {
      "text/plain": [
       "<matplotlib.axes._subplots.AxesSubplot at 0x1a2d14f0f0>"
      ]
     },
     "execution_count": 50,
     "metadata": {},
     "output_type": "execute_result"
    },
    {
     "data": {
      "image/png": "[encoded data removed]",
      "text/plain": [
       "<Figure size 432x288 with 1 Axes>"
      ]
     },
     "metadata": {
      "needs_background": "light"
     },
     "output_type": "display_data"
    }
   ],
   "source": [
    "tempDF = u_data.groupby(\"user_id\")[\"item_id\"].count().reset_index()\n",
    "tempDF.columns = [\"user_id\", \"cnt\"]\n",
    "sns.distplot(tempDF[\"cnt\"])\n",
    "#tempDF[\"cnt\"] >=  "
   ]
  },
  {
   "cell_type": "code",
   "execution_count": 51,
   "metadata": {},
   "outputs": [],
   "source": [
    "# Testing latent semantic analysis technique by generating recommendations based on the past ratings"
   ]
  },
  {
   "cell_type": "code",
   "execution_count": 52,
   "metadata": {
    "scrolled": true
   },
   "outputs": [
    {
     "name": "stdout",
     "output_type": "stream",
     "text": [
      "Counter party  847\n",
      "want to rate item:  1067\n"
     ]
    },
    {
     "data": {
      "text/plain": [
       "[(290, 4, 0.061225488099028384),\n",
       " (185, 2, -0.059959916651204884),\n",
       " (826, 3, -0.17313698223579374),\n",
       " (288, 4, -0.03260200075611533),\n",
       " (405, 3, 0.02626370995480131),\n",
       " (238, 2, -0.013838639004049219),\n",
       " (1172, 1, 0.019666342774066904),\n",
       " (763, 1, 0.06415121888671318),\n",
       " (434, 3, 0.05607409874265006),\n",
       " (1050, 3, -0.00518002938874479),\n",
       " (108, 2, 0.08289282673422725),\n",
       " (658, 3, -0.1260769901816329),\n",
       " (225, 1, -0.059724301162779596),\n",
       " (473, 2, 0.12640074434700083),\n",
       " (926, 1, 0.0011513175704957804),\n",
       " (372, 5, -0.0017562647086044722),\n",
       " (1160, 4, -0.06835507739545271),\n",
       " (118, 3, -0.1039645827533022),\n",
       " (180, 2, 0.09369433306602892),\n",
       " (183, 4, -0.009970918911168901),\n",
       " (258, 5, -0.1270996715218772),\n",
       " (168, 4, 0.10266142322124722),\n",
       " (410, 1, 0.12337599873959393),\n",
       " (176, 3, 0.0064916035247434304),\n",
       " (39, 2, -0.06422043480686498),\n",
       " (234, 2, 0.059266164194463254),\n",
       " (448, 4, -0.04902476579162432),\n",
       " (479, 3, -0.12249155490780719),\n",
       " (367, 3, 0.009851408457661309),\n",
       " (474, 4, 0.01790214217978611),\n",
       " (202, 4, -0.025201498179195717),\n",
       " (645, 3, -0.019264997402070525),\n",
       " (144, 4, -0.023429416177216653),\n",
       " (485, 3, 0.013536782523450953),\n",
       " (732, 4, 0.01350340675097957),\n",
       " (567, 3, -0.06321573246009492),\n",
       " (404, 3, 0.005222512110587413),\n",
       " (948, 1, 0.041476667390470394),\n",
       " (444, 3, -0.030399934252430934),\n",
       " (7, 3, 0.019382452223083966),\n",
       " (1086, 4, -0.09788839801260886),\n",
       " (71, 4, 0.01603123841362514),\n",
       " (218, 3, -0.020031756367773306),\n",
       " (104, 3, -0.06863793051603718),\n",
       " (756, 1, -0.1132589903022344),\n",
       " (735, 4, 0.10994252501500072),\n",
       " (257, 3, -0.027869617289073462),\n",
       " (476, 4, -0.08287416544635799),\n",
       " (11, 3, 0.030137986757057884),\n",
       " (121, 3, 0.07453330714835621),\n",
       " (411, 1, -0.04241954334586578),\n",
       " (216, 3, 0.07794374100859425),\n",
       " (456, 1, 0.10392191453206669),\n",
       " (211, 4, -0.02190392067042299),\n",
       " (161, 2, 0.01611000380322024),\n",
       " (153, 4, 0.023991814835339048),\n",
       " (99, 2, -0.04571224701888124),\n",
       " (261, 1, -0.021051581114952426),\n",
       " (95, 4, -0.0022253028153509887),\n",
       " (198, 4, -0.0964054145493029),\n",
       " (428, 3, 0.060304817313223284),\n",
       " (243, 1, -0.0426816348575264),\n",
       " (109, 5, -0.08298751815037561),\n",
       " (82, 4, -0.08695712421358656),\n",
       " (1204, 3, -0.022278404901233013),\n",
       " (93, 1, 0.0637257310076857),\n",
       " (173, 5, -0.022110211343653145),\n",
       " (1137, 5, -0.016967935484266804),\n",
       " (1012, 1, -0.09047261864988819),\n",
       " (239, 5, -0.02070668995153776),\n",
       " (301, 5, 0.013232014203831438),\n",
       " (96, 4, -0.0004630432031040026),\n",
       " (200, 3, -0.028288169850254674),\n",
       " (1007, 4, 0.06492325756867487),\n",
       " (151, 4, 0.03191011948402771),\n",
       " (499, 4, -0.0003665777771357494),\n",
       " (527, 2, -0.04536680827095919),\n",
       " (79, 4, 0.07680114368531636),\n",
       " (426, 2, -0.08811595001584813),\n",
       " (220, 4, -0.06740546092034583),\n",
       " (174, 4, 0.08037405110917363),\n",
       " (25, 3, -0.14086827769329746),\n",
       " (447, 3, 0.0024082063256656194),\n",
       " (289, 5, -0.12971435370018392),\n",
       " (56, 1, -0.031991507653282715),\n",
       " (369, 1, 0.185537007586927),\n",
       " (125, 3, 0.02766270176695184),\n",
       " (1167, 5, 0.024845626425906226),\n",
       " (1400, 5, 0.03932404939318081),\n",
       " (98, 4, -0.06851216342425628),\n",
       " (742, 3, -0.05317008652365552),\n",
       " (47, 2, 0.1066505258689967),\n",
       " (262, 5, 0.09153571097703753),\n",
       " (317, 3, 0.04382000745596382),\n",
       " (1, 3, 0.059581499189709355),\n",
       " (417, 2, 0.07995049127510406),\n",
       " (663, 2, 0.09240955157700166),\n",
       " (210, 3, 0.008919697445874657),\n",
       " (181, 4, 0.06643854472368525),\n",
       " (235, 1, -0.028850049182134747),\n",
       " (740, 4, 0.03268699100574434),\n",
       " (496, 4, 0.04752654442902972),\n",
       " (191, 4, -0.10112758527119203),\n",
       " (8, 4, 0.03252816150909416),\n",
       " (141, 3, -0.037976251040302084),\n",
       " (117, 2, -0.07937661117809572),\n",
       " (219, 4, -0.048121379622737735),\n",
       " (196, 3, 0.07293273851872385),\n",
       " (568, 4, 0.04289341290198405),\n",
       " (480, 3, -0.11438156297241812),\n",
       " (578, 3, 0.06975194288472486),\n",
       " (13, 3, 0.1569305781129741),\n",
       " (70, 3, 0.005646989669923821),\n",
       " (482, 2, -0.011281096478328893),\n",
       " (89, 2, -0.011977369000132498),\n",
       " (419, 3, 0.15091268969996072),\n",
       " (1031, 2, -0.06554091450041931),\n",
       " (820, 1, -0.014958399365801107),\n",
       " (603, 3, -0.0490984289283553),\n",
       " (928, 3, 0.08373705979489329),\n",
       " (507, 3, -0.027909685098655927),\n",
       " (66, 3, 0.10920409844751346),\n",
       " (455, 2, -0.04111824035529272),\n",
       " (135, 4, -0.17850750543653027),\n",
       " (228, 4, 0.076387609850136),\n",
       " (652, 5, 0.038310454939880736),\n",
       " (77, 4, -0.03529035638595636),\n",
       " (716, 3, -0.07077110724409602),\n",
       " (204, 4, -0.029323071019714333),\n",
       " (195, 4, -0.052291051988912714),\n",
       " (172, 4, 0.03847768428368191),\n",
       " (705, 3, 0.02834762285888621),\n",
       " (164, 3, 0.041733741166259476),\n",
       " (157, 1, -0.03923362798364235),\n",
       " (602, 3, -0.021304583203499063),\n",
       " (50, 4, -0.009965644836080263),\n",
       " (222, 5, -0.050581152906652514),\n",
       " (501, 3, -0.05163366308717907),\n",
       " (142, 3, -0.04914147110279631),\n",
       " (133, 3, 0.03519961526228887),\n",
       " (240, 1, 0.09324790899836272),\n",
       " (88, 2, -0.03318435431959167),\n",
       " (609, 2, 0.002168790408288804),\n",
       " (685, 2, 0.004521533803920801),\n",
       " (120, 1, 0.012380910817541058),\n",
       " (596, 3, 0.10259353521630166)]"
      ]
     },
     "execution_count": 52,
     "metadata": {},
     "output_type": "execute_result"
    }
   ],
   "source": [
    "user_list = u_data[\"user_id\"].tolist()\n",
    "\n",
    "random_index = np.random.randint(low = 0, high=len(user_list), size = 1)[0]\n",
    "\n",
    "#random_index = np.random.randint(low = 0, high=len(user_list), size = 1)[0]\n",
    "counter_user_id = user_list[random_index]\n",
    "rating_list = list(u_data[u_data[\"user_id\"] == counter_user_id][\"rating\"])\n",
    "item_list = list(u_data[u_data[\"user_id\"] == counter_user_id][\"item_id\"])\n",
    "''' Getting random users and ratings made'''\n",
    "item_rating_info = list(zip(item_list, rating_list))\n",
    "print(\"Counter party \", counter_user_id)\n",
    "#print(\"Ratings: \", item_rating_info)\n",
    "not_rated_items = list(set(userItemDF.columns) - set(item_list))\n",
    "random_item_index = np.random.randint(low = 0, high = len(not_rated_items), size = 1)[0]\n",
    "print(\"want to rate item: \", not_rated_items[random_item_index])\n",
    "\n",
    "\n",
    "item_rating_similarity_list = []\n",
    "for item, rat in item_rating_info:\n",
    "    item_rating_similarity_list.append((item, rat, corrDF.loc[not_rated_items[random_item_index]][item]))\n",
    "\n",
    "item_rating_similarity_list"
   ]
  },
  {
   "cell_type": "code",
   "execution_count": 53,
   "metadata": {},
   "outputs": [
    {
     "data": {
      "text/plain": [
       "8.981569029601001"
      ]
     },
     "execution_count": 53,
     "metadata": {},
     "output_type": "execute_result"
    }
   ],
   "source": [
    "recommended_score = 0.0\n",
    "for item, rat, similarity_score in item_rating_similarity_list:\n",
    "    recommended_score += (similarity_score * rat)\n",
    "\n",
    "recommended_score/sum([score for _, _, score in item_rating_similarity_list])"
   ]
  },
  {
   "cell_type": "code",
   "execution_count": 54,
   "metadata": {},
   "outputs": [],
   "source": [
    "# Content-based Recommendations"
   ]
  },
  {
   "cell_type": "code",
   "execution_count": 85,
   "metadata": {},
   "outputs": [
    {
     "name": "stdout",
     "output_type": "stream",
     "text": [
      "   movie id  unknown  Action  Adventure  Animation  Children's  Comedy  Crime  \\\n",
      "0         1        0       0          0          1           1       1      0   \n",
      "1         2        0       1          1          0           0       0      0   \n",
      "2         3        0       0          0          0           0       0      0   \n",
      "3         4        0       1          0          0           0       1      0   \n",
      "4         5        0       0          0          0           0       0      1   \n",
      "\n",
      "   Documentary  Drama  Fantasy  Film-Noir  Horror  Musical  Mystery  Romance  \\\n",
      "0            0      0        0          0       0        0        0        0   \n",
      "1            0      0        0          0       0        0        0        0   \n",
      "2            0      0        0          0       0        0        0        0   \n",
      "3            0      1        0          0       0        0        0        0   \n",
      "4            0      1        0          0       0        0        0        0   \n",
      "\n",
      "   Sci-Fi  Thriller  War  Western  \n",
      "0       0         0    0        0  \n",
      "1       0         1    0        0  \n",
      "2       0         1    0        0  \n",
      "3       0         0    0        0  \n",
      "4       0         1    0        0  \n"
     ]
    }
   ],
   "source": [
    "\n",
    "columns_1 = [\"movie id\", \"movie title\", \"release date\", \"video release date\",\n",
    "              \"IMDb URL\",\"unknown\", \"Action\", \"Adventure\", \"Animation\",\n",
    "              \"Children's\", \"Comedy\" ,\"Crime\" , \"Documentary\", \"Drama\", \"Fantasy\" ,\n",
    "              \"Film-Noir\",\"Horror\" ,\"Musical\", \"Mystery\",\"Romance\", \"Sci-Fi\",\n",
    "              \"Thriller\", \"War\",\"Western\"]\n",
    "# Function to read textfile dataset and load it as a Pandas DataFrame\n",
    "def loadData(file, columns):\n",
    "    df = pd.read_table(file, sep='|', encoding='utf-8')\n",
    "    df.columns = columns\n",
    "    return df\n",
    "\n",
    "#u_data = loadData(r\"/Users/patrick.orourke/Desktop/ml-100k/u.item\",columns)\n",
    "#u_data.head(5)\n",
    "\n",
    "itemdf = pd.read_table(r\"/Users/patrick.orourke/Desktop/ml-100k/u.item\", sep=\"|\", encoding='latin-1', \n",
    "              header=None)\n",
    "itemdf.columns = columns_1\n",
    "itemdf.head()\n",
    "\n",
    "#list() + list(itemdf.columns[5:])\n",
    "selectedCols = [itemdf.columns[0]] + list(itemdf.columns[5:])\n",
    "#[1] + [2, 3]\n",
    "itemdfTemp = itemdf[selectedCols]\n",
    "print(itemdfTemp.head(5))"
   ]
  },
  {
   "cell_type": "code",
   "execution_count": 70,
   "metadata": {},
   "outputs": [
    {
     "data": {
      "text/plain": [
       "'Truth About Cats & Dogs, The (1996)'"
      ]
     },
     "execution_count": 70,
     "metadata": {},
     "output_type": "execute_result"
    }
   ],
   "source": [
    " itemdf.loc[itemdf[\"movie id\"] == 111, \"movie title\"].iloc[0]"
   ]
  },
  {
   "cell_type": "code",
   "execution_count": 86,
   "metadata": {
    "scrolled": true
   },
   "outputs": [
    {
     "name": "stdout",
     "output_type": "stream",
     "text": [
      "(1682, 4)\n"
     ]
    },
    {
     "data": {
      "text/plain": [
       "array([[   0,    7,    3,   12],\n",
       "       [   1,    2,   20,   16],\n",
       "       [   2,   10,   11,   22],\n",
       "       ...,\n",
       "       [1679, 1661, 1544, 1440],\n",
       "       [1680, 1667, 1663, 1658],\n",
       "       [1681, 1677, 1676, 1675]])"
      ]
     },
     "execution_count": 86,
     "metadata": {},
     "output_type": "execute_result"
    }
   ],
   "source": [
    "from sklearn.neighbors import NearestNeighbors\n",
    "neigh = NearestNeighbors(metric='cosine', algorithm='brute', n_neighbors=4, n_jobs=-1)\n",
    "neighFit = neigh.fit(itemdfTemp) \n",
    "distance, neighb = neighFit.kneighbors(itemdfTemp)\n",
    "print(neighb.shape)\n",
    "neighb"
   ]
  },
  {
   "cell_type": "code",
   "execution_count": 90,
   "metadata": {},
   "outputs": [
    {
     "name": "stdout",
     "output_type": "stream",
     "text": [
      "Want to predict movie:  Clear and Present Danger (1994)\n",
      "Similar movies based on movie genres:  ['Quick and the Dead, The (1995)', 'Die Hard: With a Vengeance (1995)', \"Microcosmos: Le peuple de l'herbe (1996)\"]\n"
     ]
    }
   ],
   "source": [
    "# Want to find the movies similar to movie_ID = 99 based on similar movie genres\n",
    "movie_list = u_data[\"item_id\"].tolist()\n",
    "\n",
    "random_index = np.random.randint(low = 0, high=len(movie_list), size = 1)[0]\n",
    "\n",
    "#random_index = np.random.randint(low = 0, high=len(user_list), size = 1)[0]\n",
    "random_movie_id = movie_list[random_index]\n",
    "random_movie_name =  itemdf.loc[itemdf[\"movie id\"] == random_movie_id, \"movie title\"].iloc[0]\n",
    "print(\"Want to predict movie: \", random_movie_name)\n",
    "\n",
    "similar_movies_ids = neighb[random_movie_id,1::]\n",
    "similar_movies_names = [itemdf.loc[itemdf[\"movie id\"] == i, \"movie title\"].iloc[0] for i in similar_movies_ids]\n",
    "print(\"Similar movies based on movie genres: \", similar_movies_names)\n",
    "\n",
    "#tempData[tempData[\"user_id\"] == random_user_id]"
   ]
  },
  {
   "cell_type": "code",
   "execution_count": 79,
   "metadata": {},
   "outputs": [],
   "source": [
    "# Use Surprise Python Package for Recommender Systems"
   ]
  },
  {
   "cell_type": "code",
   "execution_count": 316,
   "metadata": {},
   "outputs": [],
   "source": [
    "from surprise import BaselineOnly\n",
    "from surprise import Dataset\n",
    "from surprise import Reader\n",
    "from surprise.model_selection import cross_validate\n",
    "from surprise.prediction_algorithms import *\n",
    "\n",
    "# path to dataset file\n",
    "file_path = os.path.expanduser(\"/Users/patrick.orourke/Desktop/ml-100k/u.data\")\n",
    "\n",
    "reader = Reader(rating_scale=(1, 5))\n",
    "data = Dataset.load_from_df(u_data[['user_id', 'item_id', 'rating']], reader)"
   ]
  },
  {
   "cell_type": "code",
   "execution_count": 317,
   "metadata": {},
   "outputs": [],
   "source": [
    "# Use the famous SVD algorithm.\n",
    "algo = SVD()"
   ]
  },
  {
   "cell_type": "code",
   "execution_count": 318,
   "metadata": {},
   "outputs": [],
   "source": [
    "# Use “rmse” as our accuracy metric for the predictions."
   ]
  },
  {
   "cell_type": "code",
   "execution_count": 319,
   "metadata": {},
   "outputs": [
    {
     "name": "stdout",
     "output_type": "stream",
     "text": [
      "Estimating biases using als...\n",
      "Computing the msd similarity matrix...\n",
      "Done computing similarity matrix.\n",
      "Estimating biases using als...\n",
      "Computing the msd similarity matrix...\n",
      "Done computing similarity matrix.\n",
      "Estimating biases using als...\n",
      "Computing the msd similarity matrix...\n",
      "Done computing similarity matrix.\n",
      "Computing the msd similarity matrix...\n",
      "Done computing similarity matrix.\n",
      "Computing the msd similarity matrix...\n",
      "Done computing similarity matrix.\n",
      "Computing the msd similarity matrix...\n",
      "Done computing similarity matrix.\n",
      "Computing the msd similarity matrix...\n",
      "Done computing similarity matrix.\n",
      "Computing the msd similarity matrix...\n",
      "Done computing similarity matrix.\n",
      "Computing the msd similarity matrix...\n",
      "Done computing similarity matrix.\n",
      "Computing the msd similarity matrix...\n",
      "Done computing similarity matrix.\n",
      "Computing the msd similarity matrix...\n",
      "Done computing similarity matrix.\n",
      "Computing the msd similarity matrix...\n",
      "Done computing similarity matrix.\n",
      "Estimating biases using als...\n",
      "Estimating biases using als...\n",
      "Estimating biases using als...\n"
     ]
    },
    {
     "data": {
      "text/html": [
       "<div>\n",
       "<style scoped>\n",
       "    .dataframe tbody tr th:only-of-type {\n",
       "        vertical-align: middle;\n",
       "    }\n",
       "\n",
       "    .dataframe tbody tr th {\n",
       "        vertical-align: top;\n",
       "    }\n",
       "\n",
       "    .dataframe thead th {\n",
       "        text-align: right;\n",
       "    }\n",
       "</style>\n",
       "<table border=\"1\" class=\"dataframe\">\n",
       "  <thead>\n",
       "    <tr style=\"text-align: right;\">\n",
       "      <th></th>\n",
       "      <th>test_rmse</th>\n",
       "      <th>fit_time</th>\n",
       "      <th>test_time</th>\n",
       "    </tr>\n",
       "    <tr>\n",
       "      <th>Algorithm</th>\n",
       "      <th></th>\n",
       "      <th></th>\n",
       "      <th></th>\n",
       "    </tr>\n",
       "  </thead>\n",
       "  <tbody>\n",
       "    <tr>\n",
       "      <th>SVDpp</th>\n",
       "      <td>0.925874</td>\n",
       "      <td>126.525276</td>\n",
       "      <td>5.031398</td>\n",
       "    </tr>\n",
       "    <tr>\n",
       "      <th>KNNBaseline</th>\n",
       "      <td>0.935837</td>\n",
       "      <td>0.346191</td>\n",
       "      <td>5.766408</td>\n",
       "    </tr>\n",
       "    <tr>\n",
       "      <th>SVD</th>\n",
       "      <td>0.945081</td>\n",
       "      <td>4.062475</td>\n",
       "      <td>0.359371</td>\n",
       "    </tr>\n",
       "    <tr>\n",
       "      <th>BaselineOnly</th>\n",
       "      <td>0.947322</td>\n",
       "      <td>0.120113</td>\n",
       "      <td>0.240876</td>\n",
       "    </tr>\n",
       "    <tr>\n",
       "      <th>SlopeOne</th>\n",
       "      <td>0.949561</td>\n",
       "      <td>0.527599</td>\n",
       "      <td>4.242349</td>\n",
       "    </tr>\n",
       "    <tr>\n",
       "      <th>KNNWithZScore</th>\n",
       "      <td>0.956531</td>\n",
       "      <td>0.289875</td>\n",
       "      <td>5.600216</td>\n",
       "    </tr>\n",
       "    <tr>\n",
       "      <th>KNNWithMeans</th>\n",
       "      <td>0.956591</td>\n",
       "      <td>0.275731</td>\n",
       "      <td>4.779783</td>\n",
       "    </tr>\n",
       "    <tr>\n",
       "      <th>NMF</th>\n",
       "      <td>0.976351</td>\n",
       "      <td>3.951267</td>\n",
       "      <td>0.231710</td>\n",
       "    </tr>\n",
       "    <tr>\n",
       "      <th>CoClustering</th>\n",
       "      <td>0.976906</td>\n",
       "      <td>1.409769</td>\n",
       "      <td>0.317939</td>\n",
       "    </tr>\n",
       "    <tr>\n",
       "      <th>KNNBasic</th>\n",
       "      <td>0.988589</td>\n",
       "      <td>0.215990</td>\n",
       "      <td>4.804930</td>\n",
       "    </tr>\n",
       "    <tr>\n",
       "      <th>NormalPredictor</th>\n",
       "      <td>1.515059</td>\n",
       "      <td>0.098004</td>\n",
       "      <td>0.231226</td>\n",
       "    </tr>\n",
       "  </tbody>\n",
       "</table>\n",
       "</div>"
      ],
      "text/plain": [
       "                 test_rmse    fit_time  test_time\n",
       "Algorithm                                        \n",
       "SVDpp             0.925874  126.525276   5.031398\n",
       "KNNBaseline       0.935837    0.346191   5.766408\n",
       "SVD               0.945081    4.062475   0.359371\n",
       "BaselineOnly      0.947322    0.120113   0.240876\n",
       "SlopeOne          0.949561    0.527599   4.242349\n",
       "KNNWithZScore     0.956531    0.289875   5.600216\n",
       "KNNWithMeans      0.956591    0.275731   4.779783\n",
       "NMF               0.976351    3.951267   0.231710\n",
       "CoClustering      0.976906    1.409769   0.317939\n",
       "KNNBasic          0.988589    0.215990   4.804930\n",
       "NormalPredictor   1.515059    0.098004   0.231226"
      ]
     },
     "execution_count": 319,
     "metadata": {},
     "output_type": "execute_result"
    }
   ],
   "source": [
    "benchmark = []\n",
    "# Iterate over all algorithms\n",
    "for algorithm in [SVD(), SVDpp(), SlopeOne(), NMF(), NormalPredictor(), KNNBaseline(), KNNBasic(), KNNWithMeans(), KNNWithZScore(), BaselineOnly(), CoClustering()]:\n",
    "    # Perform cross validation\n",
    "    results = cross_validate(algorithm, data, measures=['RMSE'], cv=3, verbose=False)\n",
    "    \n",
    "    # Get results & append algorithm name\n",
    "    tmp = pd.DataFrame.from_dict(results).mean(axis=0)\n",
    "    tmp = tmp.append(pd.Series([str(algorithm).split(' ')[0].split('.')[-1]], index=['Algorithm']))\n",
    "    benchmark.append(tmp)\n",
    "    \n",
    "pd.DataFrame(benchmark).set_index('Algorithm').sort_values('test_rmse')   "
   ]
  },
  {
   "cell_type": "code",
   "execution_count": null,
   "metadata": {},
   "outputs": [],
   "source": []
  },
  {
   "cell_type": "code",
   "execution_count": null,
   "metadata": {},
   "outputs": [],
   "source": []
  }
 ],
 "metadata": {
  "kernelspec": {
   "display_name": "Python 3",
   "language": "python",
   "name": "python3"
  },
  "language_info": {
   "codemirror_mode": {
    "name": "ipython",
    "version": 3
   },
   "file_extension": ".py",
   "mimetype": "text/x-python",
   "name": "python",
   "nbconvert_exporter": "python",
   "pygments_lexer": "ipython3",
   "version": "3.7.1"
  }
 },
 "nbformat": 4,
 "nbformat_minor": 2
}
