{
 "cells": [
  {
   "cell_type": "markdown",
   "metadata": {},
   "source": [
    "Recommendation System based on data from the MovieLens web site with:\n",
    "- 943 users\n",
    "- 1682 items\n",
    "- 100000 ratings"
   ]
  },
  {
   "cell_type": "markdown",
   "metadata": {},
   "source": [
    "Import necessary packages:"
   ]
  },
  {
   "cell_type": "code",
   "execution_count": 232,
   "metadata": {},
   "outputs": [],
   "source": [
    "import numpy as np\n",
    "import pandas as pd\n",
    "import seaborn as sns\n",
    "import os"
   ]
  },
  {
   "cell_type": "markdown",
   "metadata": {},
   "source": [
    "Create a function to read the original dataset:"
   ]
  },
  {
   "cell_type": "code",
   "execution_count": 233,
   "metadata": {},
   "outputs": [
    {
     "data": {
      "text/html": [
       "<div>\n",
       "<style scoped>\n",
       "    .dataframe tbody tr th:only-of-type {\n",
       "        vertical-align: middle;\n",
       "    }\n",
       "\n",
       "    .dataframe tbody tr th {\n",
       "        vertical-align: top;\n",
       "    }\n",
       "\n",
       "    .dataframe thead th {\n",
       "        text-align: right;\n",
       "    }\n",
       "</style>\n",
       "<table border=\"1\" class=\"dataframe\">\n",
       "  <thead>\n",
       "    <tr style=\"text-align: right;\">\n",
       "      <th></th>\n",
       "      <th>user_id</th>\n",
       "      <th>item_id</th>\n",
       "      <th>rating</th>\n",
       "      <th>timestamp</th>\n",
       "    </tr>\n",
       "  </thead>\n",
       "  <tbody>\n",
       "    <tr>\n",
       "      <th>0</th>\n",
       "      <td>186</td>\n",
       "      <td>302</td>\n",
       "      <td>3</td>\n",
       "      <td>891717742</td>\n",
       "    </tr>\n",
       "    <tr>\n",
       "      <th>1</th>\n",
       "      <td>22</td>\n",
       "      <td>377</td>\n",
       "      <td>1</td>\n",
       "      <td>878887116</td>\n",
       "    </tr>\n",
       "    <tr>\n",
       "      <th>2</th>\n",
       "      <td>244</td>\n",
       "      <td>51</td>\n",
       "      <td>2</td>\n",
       "      <td>880606923</td>\n",
       "    </tr>\n",
       "    <tr>\n",
       "      <th>3</th>\n",
       "      <td>166</td>\n",
       "      <td>346</td>\n",
       "      <td>1</td>\n",
       "      <td>886397596</td>\n",
       "    </tr>\n",
       "    <tr>\n",
       "      <th>4</th>\n",
       "      <td>298</td>\n",
       "      <td>474</td>\n",
       "      <td>4</td>\n",
       "      <td>884182806</td>\n",
       "    </tr>\n",
       "  </tbody>\n",
       "</table>\n",
       "</div>"
      ],
      "text/plain": [
       "   user_id  item_id  rating  timestamp\n",
       "0      186      302       3  891717742\n",
       "1       22      377       1  878887116\n",
       "2      244       51       2  880606923\n",
       "3      166      346       1  886397596\n",
       "4      298      474       4  884182806"
      ]
     },
     "execution_count": 233,
     "metadata": {},
     "output_type": "execute_result"
    }
   ],
   "source": [
    "\n",
    "columns = [\"user_id\", \"item_id\", \"rating\", \"timestamp\"]\n",
    "# Function to read textfile dataset and load it as a Pandas DataFrame\n",
    "def loadData(file, columns):\n",
    "    df = pd.read_table(file, sep='\\t')\n",
    "    df.columns = columns\n",
    "    return df\n",
    "\n",
    "u_data = loadData(\"/Users/patrick.orourke/Desktop/ml-100k/u.data\",columns)\n",
    "u_data.head(5)"
   ]
  },
  {
   "cell_type": "markdown",
   "metadata": {},
   "source": [
    "Find the shape of the loaded dataset:"
   ]
  },
  {
   "cell_type": "code",
   "execution_count": 234,
   "metadata": {},
   "outputs": [
    {
     "data": {
      "text/plain": [
       "(99999, 4)"
      ]
     },
     "execution_count": 234,
     "metadata": {},
     "output_type": "execute_result"
    }
   ],
   "source": [
    "u_data.shape"
   ]
  },
  {
   "cell_type": "markdown",
   "metadata": {},
   "source": [
    "Find the number of unique elements in each column of the dataset:"
   ]
  },
  {
   "cell_type": "code",
   "execution_count": 235,
   "metadata": {},
   "outputs": [
    {
     "name": "stdout",
     "output_type": "stream",
     "text": [
      "The number of unique users in the data:  943\n",
      "The number of unique movies in the data:  1682\n",
      "The number of unique ratings in the data:  5\n",
      "The number of unique timestamps in the data:  49282\n"
     ]
    }
   ],
   "source": [
    "print(\"The number of unique users in the data: \", u_data['user_id'].nunique())\n",
    "print(\"The number of unique movies in the data: \", u_data['item_id'].nunique())\n",
    "print(\"The number of unique ratings in the data: \", u_data['rating'].nunique())\n",
    "print(\"The number of unique timestamps in the data: \", u_data['timestamp'].nunique())"
   ]
  },
  {
   "cell_type": "markdown",
   "metadata": {},
   "source": [
    "Examine the distribution of the movie ratings by generating a bar chart:"
   ]
  },
  {
   "cell_type": "code",
   "execution_count": 236,
   "metadata": {},
   "outputs": [
    {
     "data": {
      "text/plain": [
       "<matplotlib.axes._subplots.AxesSubplot at 0x1a19b6b5f8>"
      ]
     },
     "execution_count": 236,
     "metadata": {},
     "output_type": "execute_result"
    },
    {
     "data": {
      "image/png": "[encoded data removed]",
      "text/plain": [
       "<Figure size 432x288 with 1 Axes>"
      ]
     },
     "metadata": {
      "needs_background": "light"
     },
     "output_type": "display_data"
    }
   ],
   "source": [
    "# Examine the distribution of movie ratings\n",
    "import matplotlib.pyplot as plt\n",
    "#pd.options.display.mpl_style = 'default'\n",
    "# u_data['rating'].plot(kind='hist')\n",
    "sns.countplot(u_data['rating'], color='gray')"
   ]
  },
  {
   "cell_type": "code",
   "execution_count": 237,
   "metadata": {},
   "outputs": [
    {
     "data": {
      "text/plain": [
       "<matplotlib.axes._subplots.AxesSubplot at 0x1a28557630>"
      ]
     },
     "execution_count": 237,
     "metadata": {},
     "output_type": "execute_result"
    },
    {
     "data": {
      "image/png": "[encoded data removed]",
      "text/plain": [
       "<Figure size 432x288 with 1 Axes>"
      ]
     },
     "metadata": {
      "needs_background": "light"
     },
     "output_type": "display_data"
    }
   ],
   "source": [
    "u_data['rating'].value_counts().plot(kind='bar')"
   ]
  },
  {
   "cell_type": "markdown",
   "metadata": {},
   "source": [
    "Generate the number of elemens for each column of the dataset:"
   ]
  },
  {
   "cell_type": "code",
   "execution_count": 238,
   "metadata": {},
   "outputs": [
    {
     "data": {
      "text/plain": [
       "<matplotlib.axes._subplots.AxesSubplot at 0x1a19b7e5c0>"
      ]
     },
     "execution_count": 238,
     "metadata": {},
     "output_type": "execute_result"
    },
    {
     "data": {
      "image/png": "[encoded data removed]",
      "text/plain": [
       "<Figure size 432x288 with 1 Axes>"
      ]
     },
     "metadata": {
      "needs_background": "light"
     },
     "output_type": "display_data"
    }
   ],
   "source": [
    "u_data['rating'].value_counts().plot(kind='barh')"
   ]
  },
  {
   "cell_type": "code",
   "execution_count": 239,
   "metadata": {},
   "outputs": [],
   "source": [
    "# Build Recommendation Engine"
   ]
  },
  {
   "cell_type": "code",
   "execution_count": 240,
   "metadata": {},
   "outputs": [
    {
     "data": {
      "text/html": [
       "<div>\n",
       "<style scoped>\n",
       "    .dataframe tbody tr th:only-of-type {\n",
       "        vertical-align: middle;\n",
       "    }\n",
       "\n",
       "    .dataframe tbody tr th {\n",
       "        vertical-align: top;\n",
       "    }\n",
       "\n",
       "    .dataframe thead th {\n",
       "        text-align: right;\n",
       "    }\n",
       "</style>\n",
       "<table border=\"1\" class=\"dataframe\">\n",
       "  <thead>\n",
       "    <tr style=\"text-align: right;\">\n",
       "      <th></th>\n",
       "      <th>user_id</th>\n",
       "      <th>item_id</th>\n",
       "      <th>rating</th>\n",
       "    </tr>\n",
       "  </thead>\n",
       "  <tbody>\n",
       "    <tr>\n",
       "      <th>0</th>\n",
       "      <td>186</td>\n",
       "      <td>302</td>\n",
       "      <td>3</td>\n",
       "    </tr>\n",
       "    <tr>\n",
       "      <th>1</th>\n",
       "      <td>22</td>\n",
       "      <td>377</td>\n",
       "      <td>1</td>\n",
       "    </tr>\n",
       "    <tr>\n",
       "      <th>2</th>\n",
       "      <td>244</td>\n",
       "      <td>51</td>\n",
       "      <td>2</td>\n",
       "    </tr>\n",
       "    <tr>\n",
       "      <th>3</th>\n",
       "      <td>166</td>\n",
       "      <td>346</td>\n",
       "      <td>1</td>\n",
       "    </tr>\n",
       "    <tr>\n",
       "      <th>4</th>\n",
       "      <td>298</td>\n",
       "      <td>474</td>\n",
       "      <td>4</td>\n",
       "    </tr>\n",
       "  </tbody>\n",
       "</table>\n",
       "</div>"
      ],
      "text/plain": [
       "   user_id  item_id  rating\n",
       "0      186      302       3\n",
       "1       22      377       1\n",
       "2      244       51       2\n",
       "3      166      346       1\n",
       "4      298      474       4"
      ]
     },
     "execution_count": 240,
     "metadata": {},
     "output_type": "execute_result"
    }
   ],
   "source": [
    "tempData = u_data[['user_id', 'item_id', 'rating']]\n",
    "tempData.head(5)"
   ]
  },
  {
   "cell_type": "markdown",
   "metadata": {},
   "source": [
    "Create a Pandas Dataframe which shows the relationship of users and movies.\n",
    "Subtract the mean of each row to scala the rows."
   ]
  },
  {
   "cell_type": "code",
   "execution_count": 241,
   "metadata": {},
   "outputs": [
    {
     "data": {
      "text/plain": [
       "(943, 1682)"
      ]
     },
     "execution_count": 241,
     "metadata": {},
     "output_type": "execute_result"
    }
   ],
   "source": [
    "#userItemDF = pd.pivot_table(data = tempData,\n",
    "#                            index='user_id', columns='item_id', fill_value='rating')\n",
    "#userItemDF.head()\n",
    "\n",
    "userItemDF = pd.pivot_table(data = tempData, \n",
    "                            index='user_id', \n",
    "                            columns='item_id',\n",
    "                            fill_value=0,\n",
    "                            values = 'rating')\n",
    "\n",
    "userItemMatrix = userItemDF.apply(func= lambda x: x - np.mean(x), axis = 1)\n",
    "userItemMatrix = userItemDF.values.astype(float)\n",
    "userItemMatrix.shape"
   ]
  },
  {
   "cell_type": "markdown",
   "metadata": {},
   "source": [
    "Look at the fitsy 5 rows of the userItemMatrix:"
   ]
  },
  {
   "cell_type": "code",
   "execution_count": 242,
   "metadata": {},
   "outputs": [
    {
     "data": {
      "text/plain": [
       "array([[5., 3., 4., ..., 0., 0., 0.],\n",
       "       [4., 0., 0., ..., 0., 0., 0.],\n",
       "       [0., 0., 0., ..., 0., 0., 0.],\n",
       "       [0., 0., 0., ..., 0., 0., 0.],\n",
       "       [4., 3., 0., ..., 0., 0., 0.]])"
      ]
     },
     "execution_count": 242,
     "metadata": {},
     "output_type": "execute_result"
    }
   ],
   "source": [
    "userItemMatrix[:5,:]"
   ]
  },
  {
   "cell_type": "code",
   "execution_count": 243,
   "metadata": {},
   "outputs": [
    {
     "name": "stdout",
     "output_type": "stream",
     "text": [
      "Shape of the user item matrix:  (943, 1682)\n"
     ]
    }
   ],
   "source": [
    "print(\"Shape of the user item matrix: \", userItemDF.shape)"
   ]
  },
  {
   "cell_type": "code",
   "execution_count": 244,
   "metadata": {},
   "outputs": [],
   "source": [
    "## Number of ratings by user\n",
    "top_users = np.sum(userItemMatrix, axis = 1).argsort()[-10:][::-1]\n",
    "top_bought_bonds =  np.sum(userItemMatrix, axis = 0).argsort()[-10:][::-1]"
   ]
  },
  {
   "cell_type": "code",
   "execution_count": null,
   "metadata": {},
   "outputs": [],
   "source": []
  },
  {
   "cell_type": "code",
   "execution_count": 245,
   "metadata": {},
   "outputs": [],
   "source": [
    "# Top users which purchased different movies"
   ]
  },
  {
   "cell_type": "code",
   "execution_count": 246,
   "metadata": {},
   "outputs": [
    {
     "data": {
      "text/plain": [
       "Int64Index([450, 655, 13, 416, 276, 303, 7, 846, 59, 234], dtype='int64', name='user_id')"
      ]
     },
     "execution_count": 246,
     "metadata": {},
     "output_type": "execute_result"
    }
   ],
   "source": [
    "userItemDF.iloc[top_users].index"
   ]
  },
  {
   "cell_type": "code",
   "execution_count": 247,
   "metadata": {},
   "outputs": [],
   "source": [
    "# Measuring sparsity from the user item matrix"
   ]
  },
  {
   "cell_type": "code",
   "execution_count": 248,
   "metadata": {},
   "outputs": [
    {
     "name": "stdout",
     "output_type": "stream",
     "text": [
      "sparsity percentage:  0.4837254614121949\n"
     ]
    }
   ],
   "source": [
    "cnt_of_zero_cells = np.sum(userItemMatrix == 0)\n",
    "cnt_of_one_cells = np.sum(userItemMatrix >= 0)\n",
    "print(\"sparsity percentage: \", cnt_of_zero_cells/(cnt_of_zero_cells + cnt_of_one_cells))"
   ]
  },
  {
   "cell_type": "code",
   "execution_count": 249,
   "metadata": {},
   "outputs": [],
   "source": [
    "from scipy.sparse.linalg import svds\n",
    "from sklearn.decomposition import TruncatedSVD, NMF\n",
    "from sklearn.metrics.pairwise import cosine_similarity\n",
    "from scipy.sparse.linalg import svds"
   ]
  },
  {
   "cell_type": "code",
   "execution_count": 250,
   "metadata": {},
   "outputs": [],
   "source": [
    "# Truncated SVD (like LSA probabilistic matrix factorization)"
   ]
  },
  {
   "cell_type": "code",
   "execution_count": 251,
   "metadata": {},
   "outputs": [
    {
     "data": {
      "text/plain": [
       "(150, 1682)"
      ]
     },
     "execution_count": 251,
     "metadata": {},
     "output_type": "execute_result"
    }
   ],
   "source": [
    "U, s, Vt = svds(userItemMatrix, k=150)\n",
    "Vt.shape\n",
    "# For user-user .... use U\n",
    "# i = np.random.randint(low = 0, high=1070, size = 1)[0]\n",
    "#reconstructed_matrix = np.matmul(np.matmul(U, np.diag(s)), Vt)\n",
    "# print(\"decomposed sum: \", sum(reconstructed_matrix[i]))\n",
    "# print(\"original sum: \", sum(userItemMatrix[i]))\n",
    "# print(\"RMSE: \", np.sqrt(np.mean((userItemMatrix - reconstructed_matrix) ** 2)))\n",
    "\n",
    "#svd = SVD(n_components=150, algorithm=\"randomized\", n_iter=10, random_state=100)\n",
    "#user_matrix = svd.fit_transform(userItemMatrix)\n",
    "#print(\"User matrix shape: \", user_matrix.shape)\n",
    "#print(\"Total explained variance percentage by selected components: \", np.sum(svd.explained_variance_ratio_) * 100.0)\n",
    "#item_matrix = np.matmul(np.diag(svd.singular_values_), svd.components_).T\n",
    "#item_matrix = np.matmul(userItemMatrix.T, np.matmul(user_matrix ,np.diag(svd.singular_values_)))\n",
    "#print(\"Item matrix shape: \", item_matrix.shape)"
   ]
  },
  {
   "cell_type": "code",
   "execution_count": 252,
   "metadata": {},
   "outputs": [],
   "source": [
    "# ?? How was corrDF defined?"
   ]
  },
  {
   "cell_type": "code",
   "execution_count": 253,
   "metadata": {},
   "outputs": [
    {
     "data": {
      "text/html": [
       "<div>\n",
       "<style scoped>\n",
       "    .dataframe tbody tr th:only-of-type {\n",
       "        vertical-align: middle;\n",
       "    }\n",
       "\n",
       "    .dataframe tbody tr th {\n",
       "        vertical-align: top;\n",
       "    }\n",
       "\n",
       "    .dataframe thead th {\n",
       "        text-align: right;\n",
       "    }\n",
       "</style>\n",
       "<table border=\"1\" class=\"dataframe\">\n",
       "  <thead>\n",
       "    <tr style=\"text-align: right;\">\n",
       "      <th>item_id</th>\n",
       "      <th>1</th>\n",
       "      <th>2</th>\n",
       "      <th>3</th>\n",
       "      <th>4</th>\n",
       "      <th>5</th>\n",
       "      <th>6</th>\n",
       "      <th>7</th>\n",
       "      <th>8</th>\n",
       "      <th>9</th>\n",
       "      <th>10</th>\n",
       "      <th>...</th>\n",
       "      <th>1673</th>\n",
       "      <th>1674</th>\n",
       "      <th>1675</th>\n",
       "      <th>1676</th>\n",
       "      <th>1677</th>\n",
       "      <th>1678</th>\n",
       "      <th>1679</th>\n",
       "      <th>1680</th>\n",
       "      <th>1681</th>\n",
       "      <th>1682</th>\n",
       "    </tr>\n",
       "    <tr>\n",
       "      <th>item_id</th>\n",
       "      <th></th>\n",
       "      <th></th>\n",
       "      <th></th>\n",
       "      <th></th>\n",
       "      <th></th>\n",
       "      <th></th>\n",
       "      <th></th>\n",
       "      <th></th>\n",
       "      <th></th>\n",
       "      <th></th>\n",
       "      <th></th>\n",
       "      <th></th>\n",
       "      <th></th>\n",
       "      <th></th>\n",
       "      <th></th>\n",
       "      <th></th>\n",
       "      <th></th>\n",
       "      <th></th>\n",
       "      <th></th>\n",
       "      <th></th>\n",
       "      <th></th>\n",
       "    </tr>\n",
       "  </thead>\n",
       "  <tbody>\n",
       "    <tr>\n",
       "      <th>1</th>\n",
       "      <td>1.000000</td>\n",
       "      <td>0.040109</td>\n",
       "      <td>-0.010311</td>\n",
       "      <td>0.025244</td>\n",
       "      <td>-0.056239</td>\n",
       "      <td>0.031500</td>\n",
       "      <td>-0.006896</td>\n",
       "      <td>-0.018654</td>\n",
       "      <td>0.014580</td>\n",
       "      <td>0.059609</td>\n",
       "      <td>...</td>\n",
       "      <td>0.038575</td>\n",
       "      <td>-0.024017</td>\n",
       "      <td>-0.050575</td>\n",
       "      <td>-0.050575</td>\n",
       "      <td>0.033138</td>\n",
       "      <td>0.049797</td>\n",
       "      <td>0.049797</td>\n",
       "      <td>0.049797</td>\n",
       "      <td>0.016134</td>\n",
       "      <td>0.052618</td>\n",
       "    </tr>\n",
       "    <tr>\n",
       "      <th>2</th>\n",
       "      <td>0.040109</td>\n",
       "      <td>1.000000</td>\n",
       "      <td>-0.016780</td>\n",
       "      <td>0.065758</td>\n",
       "      <td>-0.042892</td>\n",
       "      <td>0.126013</td>\n",
       "      <td>-0.002664</td>\n",
       "      <td>-0.094529</td>\n",
       "      <td>-0.004159</td>\n",
       "      <td>0.016922</td>\n",
       "      <td>...</td>\n",
       "      <td>0.105296</td>\n",
       "      <td>-0.110598</td>\n",
       "      <td>-0.052890</td>\n",
       "      <td>-0.052890</td>\n",
       "      <td>0.029045</td>\n",
       "      <td>-0.043946</td>\n",
       "      <td>-0.043946</td>\n",
       "      <td>-0.043946</td>\n",
       "      <td>0.019092</td>\n",
       "      <td>0.009707</td>\n",
       "    </tr>\n",
       "    <tr>\n",
       "      <th>3</th>\n",
       "      <td>-0.010311</td>\n",
       "      <td>-0.016780</td>\n",
       "      <td>1.000000</td>\n",
       "      <td>-0.012935</td>\n",
       "      <td>-0.071125</td>\n",
       "      <td>-0.018411</td>\n",
       "      <td>-0.023646</td>\n",
       "      <td>-0.026627</td>\n",
       "      <td>0.021597</td>\n",
       "      <td>0.056490</td>\n",
       "      <td>...</td>\n",
       "      <td>0.092386</td>\n",
       "      <td>0.063366</td>\n",
       "      <td>-0.005213</td>\n",
       "      <td>-0.005213</td>\n",
       "      <td>0.173008</td>\n",
       "      <td>0.021112</td>\n",
       "      <td>0.021112</td>\n",
       "      <td>0.021112</td>\n",
       "      <td>-0.067158</td>\n",
       "      <td>0.070885</td>\n",
       "    </tr>\n",
       "    <tr>\n",
       "      <th>4</th>\n",
       "      <td>0.025244</td>\n",
       "      <td>0.065758</td>\n",
       "      <td>-0.012935</td>\n",
       "      <td>1.000000</td>\n",
       "      <td>0.007296</td>\n",
       "      <td>-0.062350</td>\n",
       "      <td>-0.048994</td>\n",
       "      <td>0.003986</td>\n",
       "      <td>0.102691</td>\n",
       "      <td>-0.024588</td>\n",
       "      <td>...</td>\n",
       "      <td>-0.004088</td>\n",
       "      <td>-0.051162</td>\n",
       "      <td>0.110311</td>\n",
       "      <td>0.110311</td>\n",
       "      <td>-0.047873</td>\n",
       "      <td>0.000813</td>\n",
       "      <td>0.000813</td>\n",
       "      <td>0.000813</td>\n",
       "      <td>-0.011099</td>\n",
       "      <td>0.044613</td>\n",
       "    </tr>\n",
       "    <tr>\n",
       "      <th>5</th>\n",
       "      <td>-0.056239</td>\n",
       "      <td>-0.042892</td>\n",
       "      <td>-0.071125</td>\n",
       "      <td>0.007296</td>\n",
       "      <td>1.000000</td>\n",
       "      <td>0.042605</td>\n",
       "      <td>-0.052533</td>\n",
       "      <td>0.000499</td>\n",
       "      <td>0.024171</td>\n",
       "      <td>-0.145256</td>\n",
       "      <td>...</td>\n",
       "      <td>-0.062187</td>\n",
       "      <td>-0.020264</td>\n",
       "      <td>0.007201</td>\n",
       "      <td>0.007201</td>\n",
       "      <td>-0.052948</td>\n",
       "      <td>-0.002688</td>\n",
       "      <td>-0.002688</td>\n",
       "      <td>-0.002688</td>\n",
       "      <td>0.040368</td>\n",
       "      <td>0.226578</td>\n",
       "    </tr>\n",
       "  </tbody>\n",
       "</table>\n",
       "<p>5 rows × 1682 columns</p>\n",
       "</div>"
      ],
      "text/plain": [
       "item_id      1         2         3         4         5         6         7     \\\n",
       "item_id                                                                         \n",
       "1        1.000000  0.040109 -0.010311  0.025244 -0.056239  0.031500 -0.006896   \n",
       "2        0.040109  1.000000 -0.016780  0.065758 -0.042892  0.126013 -0.002664   \n",
       "3       -0.010311 -0.016780  1.000000 -0.012935 -0.071125 -0.018411 -0.023646   \n",
       "4        0.025244  0.065758 -0.012935  1.000000  0.007296 -0.062350 -0.048994   \n",
       "5       -0.056239 -0.042892 -0.071125  0.007296  1.000000  0.042605 -0.052533   \n",
       "\n",
       "item_id      8         9         10      ...         1673      1674      1675  \\\n",
       "item_id                                  ...                                    \n",
       "1       -0.018654  0.014580  0.059609    ...     0.038575 -0.024017 -0.050575   \n",
       "2       -0.094529 -0.004159  0.016922    ...     0.105296 -0.110598 -0.052890   \n",
       "3       -0.026627  0.021597  0.056490    ...     0.092386  0.063366 -0.005213   \n",
       "4        0.003986  0.102691 -0.024588    ...    -0.004088 -0.051162  0.110311   \n",
       "5        0.000499  0.024171 -0.145256    ...    -0.062187 -0.020264  0.007201   \n",
       "\n",
       "item_id      1676      1677      1678      1679      1680      1681      1682  \n",
       "item_id                                                                        \n",
       "1       -0.050575  0.033138  0.049797  0.049797  0.049797  0.016134  0.052618  \n",
       "2       -0.052890  0.029045 -0.043946 -0.043946 -0.043946  0.019092  0.009707  \n",
       "3       -0.005213  0.173008  0.021112  0.021112  0.021112 -0.067158  0.070885  \n",
       "4        0.110311 -0.047873  0.000813  0.000813  0.000813 -0.011099  0.044613  \n",
       "5        0.007201 -0.052948 -0.002688 -0.002688 -0.002688  0.040368  0.226578  \n",
       "\n",
       "[5 rows x 1682 columns]"
      ]
     },
     "execution_count": 253,
     "metadata": {},
     "output_type": "execute_result"
    }
   ],
   "source": [
    "#corrDF = pd.DataFrame(data = np.corrcoef(item_matrix), columns=userItemDF.columns)\n",
    "from sklearn.metrics.pairwise import cosine_similarity\n",
    "corrDF = cosine_similarity(X = Vt.T)\n",
    "corrDF.shape\n",
    "corrDF = pd.DataFrame(data=corrDF, columns=userItemDF.columns, index=userItemDF.columns)\n",
    "# Columns = items, indexes =. users .... use latter for user-user\n",
    "corrDF.head()"
   ]
  },
  {
   "cell_type": "code",
   "execution_count": null,
   "metadata": {},
   "outputs": [],
   "source": []
  },
  {
   "cell_type": "code",
   "execution_count": 254,
   "metadata": {},
   "outputs": [
    {
     "name": "stderr",
     "output_type": "stream",
     "text": [
      "/Users/patrick.orourke/anaconda3/lib/python3.7/site-packages/scipy/stats/stats.py:1713: FutureWarning: Using a non-tuple sequence for multidimensional indexing is deprecated; use `arr[tuple(seq)]` instead of `arr[seq]`. In the future this will be interpreted as an array index, `arr[np.array(seq)]`, which will result either in an error or a different result.\n",
      "  return np.add.reduce(sorted[indexer] * weights, axis=axis) / sumval\n"
     ]
    },
    {
     "data": {
      "text/plain": [
       "<matplotlib.axes._subplots.AxesSubplot at 0x1a228cf5c0>"
      ]
     },
     "execution_count": 254,
     "metadata": {},
     "output_type": "execute_result"
    },
    {
     "data": {
      "image/png": "[encoded data removed]",
      "text/plain": [
       "<Figure size 432x288 with 1 Axes>"
      ]
     },
     "metadata": {
      "needs_background": "light"
     },
     "output_type": "display_data"
    }
   ],
   "source": [
    "tempDF = u_data.groupby(\"user_id\")[\"item_id\"].count().reset_index()\n",
    "tempDF.columns = [\"user_id\", \"cnt\"]\n",
    "sns.distplot(tempDF[\"cnt\"])\n",
    "#tempDF[\"cnt\"] >=  "
   ]
  },
  {
   "cell_type": "code",
   "execution_count": 255,
   "metadata": {},
   "outputs": [],
   "source": [
    "# Testing latent semantic analysis technique by generating recommendations based on the past ratings"
   ]
  },
  {
   "cell_type": "code",
   "execution_count": 256,
   "metadata": {
    "scrolled": true
   },
   "outputs": [
    {
     "name": "stdout",
     "output_type": "stream",
     "text": [
      "Counter party  747\n",
      "want to rate item:  1661\n"
     ]
    },
    {
     "data": {
      "text/plain": [
       "[(228, 4, -0.0986545457489314),\n",
       " (25, 3, 0.11292459103468182),\n",
       " (108, 4, -0.07546037607905869),\n",
       " (208, 5, -0.1246680429425127),\n",
       " (23, 5, -0.02049323382979635),\n",
       " (223, 5, -0.003084600940459429),\n",
       " (432, 5, 0.06668084924155489),\n",
       " (48, 5, -0.03756656587869924),\n",
       " (1050, 3, -0.04100562823614401),\n",
       " (486, 5, 0.08871766006947354),\n",
       " (1375, 4, 0.09477189511169155),\n",
       " (783, 1, -0.07864443609502757),\n",
       " (116, 4, -0.0895299990706114),\n",
       " (303, 5, -0.01385843388643061),\n",
       " (650, 4, -0.04639486600655932),\n",
       " (173, 3, -0.06890863408131034),\n",
       " (180, 5, 0.05236351343740019),\n",
       " (531, 4, -0.03948265107884427),\n",
       " (279, 4, 0.062067179176144134),\n",
       " (661, 5, 0.015620961975836324),\n",
       " (132, 4, -0.08959900707658859),\n",
       " (44, 2, -0.03839618509836644),\n",
       " (835, 3, -0.05613638673326521),\n",
       " (183, 5, -0.11256923768118171),\n",
       " (292, 4, -0.014320199793909649),\n",
       " (443, 5, 0.014069498848377899),\n",
       " (654, 5, -0.0395345831003938),\n",
       " (87, 5, 0.1951371377342479),\n",
       " (467, 4, -0.053888214869427166),\n",
       " (1194, 5, 0.08752382913265556),\n",
       " (211, 5, -0.041981185468033394),\n",
       " (500, 4, 0.011497935253589005),\n",
       " (1660, 2, 0.03945667233858925),\n",
       " (496, 5, -0.07788205238643015),\n",
       " (316, 4, 0.11130199235319571),\n",
       " (648, 5, -0.07224656885859695),\n",
       " (844, 4, 0.008018181485102704),\n",
       " (705, 5, -0.05564564743587486),\n",
       " (474, 5, -0.02907261682101411),\n",
       " (152, 3, -0.08469706932181598),\n",
       " (939, 3, -0.027569361110686006),\n",
       " (156, 3, -0.08206200047667671),\n",
       " (1203, 5, -0.01806388389381893),\n",
       " (3, 2, 0.1556252238519281),\n",
       " (494, 5, 0.15922134755908332),\n",
       " (327, 4, 0.008671408056829458),\n",
       " (591, 2, -0.04485070920898269),\n",
       " (502, 5, -0.012864392162098557),\n",
       " (1028, 1, 0.06499925144981997),\n",
       " (497, 5, 0.20962734398140564),\n",
       " (952, 2, 0.13295138409391957),\n",
       " (91, 5, 0.10692040628371381),\n",
       " (135, 5, -0.061251277293912366),\n",
       " (205, 5, -0.013910122315991705),\n",
       " (153, 4, 0.08037147891820073),\n",
       " (739, 3, 0.02820669623209739),\n",
       " (634, 5, -0.06102884319039112),\n",
       " (1142, 4, 0.011063168438285283),\n",
       " (28, 4, 0.13204926568093164),\n",
       " (79, 4, 0.03989556187400649),\n",
       " (461, 5, 0.07372543623336711),\n",
       " (492, 4, 0.025813981189047725),\n",
       " (997, 3, -0.0009908479206230056),\n",
       " (967, 3, -0.013355154807846407),\n",
       " (419, 5, 0.09992267890195439),\n",
       " (99, 5, 0.16183024378765537),\n",
       " (408, 5, -0.145991219596894),\n",
       " (29, 1, -0.035746543858678495),\n",
       " (639, 5, 0.00799768806717741),\n",
       " (163, 4, -0.1252168101812026),\n",
       " (588, 5, 0.09585629786731395),\n",
       " (580, 5, 0.11821341528658524),\n",
       " (478, 4, -0.04873884715144589),\n",
       " (501, 5, -0.015303282451836691),\n",
       " (4, 4, -0.10155114788168434),\n",
       " (302, 5, 0.07497945312543364),\n",
       " (693, 5, 0.0008839476235648419),\n",
       " (1204, 4, -0.007967961996335262),\n",
       " (929, 3, -0.10539103344092672),\n",
       " (1067, 2, 0.09442739025331987),\n",
       " (509, 5, -0.03306934891376294),\n",
       " (282, 2, -0.021664555756942764),\n",
       " (109, 5, -0.1328464634140987),\n",
       " (596, 5, 0.18448890708330234),\n",
       " (301, 1, 0.16047670752565762),\n",
       " (265, 4, -0.0723691586109641),\n",
       " (82, 4, 0.08341280176527403),\n",
       " (50, 5, 0.04159167042119517),\n",
       " (951, 2, -0.04629840847623073),\n",
       " (1003, 1, 0.04716063879669645),\n",
       " (430, 4, -0.15441036066370054),\n",
       " (558, 4, 0.21217200389741062),\n",
       " (427, 5, -0.06127840532511395),\n",
       " (675, 2, -0.10896963895071213),\n",
       " (526, 5, -0.04908613833519797),\n",
       " (15, 4, -0.021694947744375467),\n",
       " (97, 5, -0.1628833574359723),\n",
       " (481, 5, 0.11201859625633098),\n",
       " (923, 5, 0.0002483449493998616),\n",
       " (428, 3, 0.23855590145763025),\n",
       " (71, 5, -0.0634288329063189),\n",
       " (736, 5, 0.228274317870401),\n",
       " (216, 2, 0.05752082136711281),\n",
       " (347, 5, 0.06026550917675287),\n",
       " (409, 1, -0.04514124745805339),\n",
       " (73, 4, -0.0007587635729516618),\n",
       " (1456, 3, -0.10642729262564163),\n",
       " (480, 5, 0.07598869179857587),\n",
       " (268, 5, -0.0615799978193457),\n",
       " (508, 5, -0.013878874448706498),\n",
       " (1159, 2, -0.05083487747852495),\n",
       " (482, 5, -0.034935291164204386),\n",
       " (287, 4, 0.046364751661964056),\n",
       " (631, 5, 0.20568738198574807),\n",
       " (30, 5, -0.024663675793562066),\n",
       " (949, 5, 0.00736433899964537),\n",
       " (672, 4, -0.014955458699738626),\n",
       " (1098, 4, 0.07491370187907921),\n",
       " (56, 5, 0.006666244367288588),\n",
       " (651, 5, -0.07903046498139035),\n",
       " (887, 5, -0.05494932375809952),\n",
       " (392, 3, -0.03597843339584511),\n",
       " (290, 3, -0.06809384202597824),\n",
       " (1225, 3, -0.08481485529999505),\n",
       " (313, 5, -0.0003273793835648761),\n",
       " (111, 4, 0.03223609900650006),\n",
       " (133, 5, -0.077118742610226),\n",
       " (615, 5, 0.03542046105004235),\n",
       " (40, 2, 0.031076458217114186),\n",
       " (234, 5, -0.0986002351919415),\n",
       " (606, 5, 0.05120321922236275),\n",
       " (483, 5, 0.09713259367156346),\n",
       " (625, 3, -0.028719941173734696),\n",
       " (418, 5, 0.1635884427355861),\n",
       " (98, 5, 0.16889732895477746),\n",
       " (179, 5, 0.07699963130648443),\n",
       " (31, 4, 0.007474823901364808),\n",
       " (530, 5, 0.005586598530456998),\n",
       " (390, 4, 0.09569536146469881),\n",
       " (989, 3, 0.03929122617070307),\n",
       " (524, 5, 0.0397216674996194),\n",
       " (463, 3, -0.08358911774667595),\n",
       " (209, 3, 0.06258054457283141),\n",
       " (945, 4, 0.10833694632522932),\n",
       " (189, 4, -0.10276478734612955),\n",
       " (21, 2, 0.2324613946964779),\n",
       " (11, 5, -0.006296736508491662),\n",
       " (416, 5, -0.1287248020306998),\n",
       " (14, 3, -0.07704789101729403),\n",
       " (117, 2, 0.06218956974421804),\n",
       " (485, 5, 0.16976510032596948),\n",
       " (304, 4, -0.05701888922373367),\n",
       " (393, 2, -0.1437173322454311),\n",
       " (603, 5, 0.14485716386820313),\n",
       " (875, 3, 0.09439786053997515),\n",
       " (86, 5, -0.031336554471694505),\n",
       " (39, 4, -0.09904721530989985),\n",
       " (85, 3, 0.05760809237589831),\n",
       " (1631, 3, 0.06737469134655588),\n",
       " (269, 4, 0.05676520883775349),\n",
       " (663, 5, -0.09823769435852685),\n",
       " (1134, 5, 0.04698473250311905),\n",
       " (845, 2, -0.04215712152733616),\n",
       " (69, 5, -0.15226021306578424),\n",
       " (12, 4, -0.10351717749550761),\n",
       " (519, 5, 0.05654157965399925),\n",
       " (93, 4, 0.02145087882945535),\n",
       " (525, 5, -0.003330396490211374),\n",
       " (190, 4, -0.06580270340510237),\n",
       " (507, 3, -0.07719254661715942),\n",
       " (262, 5, -0.0402713441823464),\n",
       " (423, 5, -0.09694435587245431),\n",
       " (88, 2, 0.06695828908491568),\n",
       " (215, 5, 0.2027035399198168),\n",
       " (475, 5, -0.05679165482995399),\n",
       " (429, 4, -0.03257504871340222),\n",
       " (188, 5, -0.019213159691252844),\n",
       " (176, 4, -0.14650809367209697),\n",
       " (8, 5, -0.03264436643612445),\n",
       " (222, 2, -0.08700438040096363),\n",
       " (985, 2, -0.043107021699525655),\n",
       " (584, 5, -0.04716518505570145),\n",
       " (357, 5, -0.030930944123349523),\n",
       " (1205, 3, 0.05859091672859615),\n",
       " (493, 5, 0.002096376845243302),\n",
       " (695, 2, 0.0747994198396359),\n",
       " (318, 5, -0.08352290908734974),\n",
       " (187, 5, -0.005483349541368864),\n",
       " (959, 5, -0.0572863243570583),\n",
       " (333, 4, 0.023524844063583104),\n",
       " (462, 5, -0.03297343926900272),\n",
       " (529, 5, -0.1331756626347628),\n",
       " (1497, 4, 0.059251061897744976),\n",
       " (162, 5, -0.051002205332954076),\n",
       " (285, 5, 0.016077255413339413),\n",
       " (842, 5, -0.03467106089054982),\n",
       " (182, 5, 0.00839431700784936),\n",
       " (26, 3, -0.05627988240420262),\n",
       " (168, 4, 0.08706376889870135),\n",
       " (404, 5, -0.011199063386571811),\n",
       " (13, 3, -0.07184078420128774),\n",
       " (175, 4, -0.05385497189709392),\n",
       " (315, 4, 0.023867565900050267),\n",
       " (504, 5, -0.05343181497813354),\n",
       " (732, 3, -0.14374741381764378),\n",
       " (83, 4, 0.13074827100502015),\n",
       " (655, 3, -0.03665809687451936),\n",
       " (154, 3, 0.014942631429545206),\n",
       " (811, 3, -0.041667278532037354),\n",
       " (288, 4, -0.06776276139703863),\n",
       " (367, 3, 0.1923230298598589),\n",
       " (1020, 4, -0.029662746655510337),\n",
       " (210, 4, 0.03901416014658473),\n",
       " (238, 3, 0.048063631868865045),\n",
       " (136, 5, -0.022775696540508702),\n",
       " (792, 5, -0.01989605864739682),\n",
       " (95, 3, 0.055762560796738116),\n",
       " (466, 3, -0.05589313905408175),\n",
       " (604, 5, -0.021163543427589457),\n",
       " (320, 5, -0.04026130465584282),\n",
       " (286, 4, -0.06240985038782399),\n",
       " (498, 5, -0.16332475545690117),\n",
       " (479, 5, 0.034742656742004455),\n",
       " (582, 5, 0.006246447592736357),\n",
       " (64, 5, -0.032064494349819575),\n",
       " (235, 5, -0.1521533425233282),\n",
       " (1021, 5, -0.09297727919456968),\n",
       " (664, 2, -0.03903629781658609),\n",
       " (70, 4, 0.08963001932978666),\n",
       " (433, 3, 0.09575373661303663),\n",
       " (1170, 2, 0.045233523739939795),\n",
       " (199, 4, -0.06888605953131194),\n",
       " (1427, 2, -0.030279641997314637),\n",
       " (735, 4, 0.09062496878460312),\n",
       " (134, 5, -0.10713942871043813),\n",
       " (22, 3, -0.0050151802439304186),\n",
       " (96, 5, 0.024600125056063092),\n",
       " (231, 3, -0.06397203006030558),\n",
       " (202, 4, 0.0029662218177533674),\n",
       " (185, 5, 0.08032863417388854),\n",
       " (32, 5, -0.09142499686033399),\n",
       " (473, 3, -0.002911928264450547),\n",
       " (63, 3, -0.0260045708976909),\n",
       " (94, 4, 0.058950771875044404),\n",
       " (608, 4, 0.024692083508494753),\n",
       " (1015, 4, 0.004227280215815032),\n",
       " (274, 4, 0.1540851075025333),\n",
       " (192, 5, -0.02219588729171772),\n",
       " (7, 4, 0.0668044876039772),\n",
       " (47, 5, 0.02427950620676697),\n",
       " (1041, 4, -0.05881994149141475),\n",
       " (644, 5, 0.10979472724387894),\n",
       " (517, 5, -0.00361328272535459),\n",
       " (174, 5, 0.08450963384979046),\n",
       " (653, 5, -0.0015370772936660914),\n",
       " (129, 5, 0.022616580555112186),\n",
       " (172, 5, 0.05411526331553934),\n",
       " (1246, 1, -0.05417644138411667),\n",
       " (169, 5, -0.023428217165256927),\n",
       " (17, 4, 0.037711833902955266),\n",
       " (649, 3, 0.0956522003591763),\n",
       " (276, 5, 0.0719344937045982),\n",
       " (555, 2, 0.05174918731154356),\n",
       " (1179, 1, -0.05541900126894093),\n",
       " (9, 5, 0.007223847453566996),\n",
       " (258, 2, -0.06755175063095249),\n",
       " (1659, 1, 0.03945667233858925),\n",
       " (403, 5, -0.02951803834833925),\n",
       " (726, 2, 0.006359392533143904),\n",
       " (181, 5, 0.05000534960149418),\n",
       " (511, 5, -0.027129172926369474),\n",
       " (195, 4, -0.061687687303276575),\n",
       " (521, 5, -0.006025771625487191),\n",
       " (204, 5, -0.008187369972446411),\n",
       " (476, 3, -0.10968226283122934),\n",
       " (659, 4, 0.13664826031970034),\n",
       " (127, 5, -0.012425790068420216),\n",
       " (196, 2, 0.05927747353679665),\n",
       " (100, 5, 0.09252611241194968),\n",
       " (488, 5, -0.053666045011778345),\n",
       " (715, 5, 0.013667711286750945),\n",
       " (1045, 4, 0.029074779706247184),\n",
       " (194, 3, 0.16479839481443578),\n",
       " (900, 5, -0.09469675279596035),\n",
       " (305, 5, 0.08988468631486378),\n",
       " (505, 5, -0.055967468617317356),\n",
       " (178, 5, 0.13721054678575895),\n",
       " (865, 5, 0.08012259110558469),\n",
       " (1, 5, -0.0010340279250522465),\n",
       " (58, 3, -0.059597110751468216),\n",
       " (514, 4, -0.01155515711410121),\n",
       " (124, 5, -0.039632901964746864),\n",
       " (510, 5, -0.03882933211946009)]"
      ]
     },
     "execution_count": 256,
     "metadata": {},
     "output_type": "execute_result"
    }
   ],
   "source": [
    "user_list = u_data[\"user_id\"].tolist()\n",
    "\n",
    "random_index = np.random.randint(low = 0, high=len(user_list), size = 1)[0]\n",
    "\n",
    "#random_index = np.random.randint(low = 0, high=len(user_list), size = 1)[0]\n",
    "counter_user_id = user_list[random_index]\n",
    "rating_list = list(u_data[u_data[\"user_id\"] == counter_user_id][\"rating\"])\n",
    "item_list = list(u_data[u_data[\"user_id\"] == counter_user_id][\"item_id\"])\n",
    "''' Getting random users and ratings made'''\n",
    "item_rating_info = list(zip(item_list, rating_list))\n",
    "print(\"Counter party \", counter_user_id)\n",
    "#print(\"Ratings: \", item_rating_info)\n",
    "not_rated_items = list(set(userItemDF.columns) - set(item_list))\n",
    "random_item_index = np.random.randint(low = 0, high = len(not_rated_items), size = 1)[0]\n",
    "print(\"want to rate item: \", not_rated_items[random_item_index])\n",
    "\n",
    "\n",
    "item_rating_similarity_list = []\n",
    "for item, rat in item_rating_info:\n",
    "    item_rating_similarity_list.append((item, rat, corrDF.loc[not_rated_items[random_item_index]][item]))\n",
    "\n",
    "item_rating_similarity_list"
   ]
  },
  {
   "cell_type": "code",
   "execution_count": 264,
   "metadata": {},
   "outputs": [
    {
     "data": {
      "text/plain": [
       "4.016839335621703"
      ]
     },
     "execution_count": 264,
     "metadata": {},
     "output_type": "execute_result"
    }
   ],
   "source": [
    "recommended_score = 0.0\n",
    "for item, rat, similarity_score in item_rating_similarity_list:\n",
    "    recommended_score += (similarity_score * rat)\n",
    "\n",
    "recommended_score/sum([score for _, _, score in item_rating_similarity_list])"
   ]
  },
  {
   "cell_type": "code",
   "execution_count": 265,
   "metadata": {},
   "outputs": [],
   "source": [
    "# Content-based Recommendations"
   ]
  },
  {
   "cell_type": "code",
   "execution_count": 266,
   "metadata": {},
   "outputs": [
    {
     "name": "stdout",
     "output_type": "stream",
     "text": [
      "      movie id  unknown  Action  Adventure  Animation  Children's  Comedy  \\\n",
      "0            1        0       0          0          1           1       1   \n",
      "1            2        0       1          1          0           0       0   \n",
      "2            3        0       0          0          0           0       0   \n",
      "3            4        0       1          0          0           0       1   \n",
      "4            5        0       0          0          0           0       0   \n",
      "5            6        0       0          0          0           0       0   \n",
      "6            7        0       0          0          0           0       0   \n",
      "7            8        0       0          0          0           1       1   \n",
      "8            9        0       0          0          0           0       0   \n",
      "9           10        0       0          0          0           0       0   \n",
      "10          11        0       0          0          0           0       0   \n",
      "11          12        0       0          0          0           0       0   \n",
      "12          13        0       0          0          0           0       1   \n",
      "13          14        0       0          0          0           0       0   \n",
      "14          15        0       0          0          0           0       0   \n",
      "15          16        0       0          0          0           0       1   \n",
      "16          17        0       1          0          0           0       1   \n",
      "17          18        0       0          0          0           0       0   \n",
      "18          19        0       0          0          0           0       0   \n",
      "19          20        0       0          0          0           0       0   \n",
      "20          21        0       1          1          0           0       1   \n",
      "21          22        0       1          0          0           0       0   \n",
      "22          23        0       0          0          0           0       0   \n",
      "23          24        0       1          1          0           0       0   \n",
      "24          25        0       0          0          0           0       1   \n",
      "25          26        0       0          0          0           0       1   \n",
      "26          27        0       1          0          0           0       0   \n",
      "27          28        0       1          0          0           0       0   \n",
      "28          29        0       1          1          0           0       1   \n",
      "29          30        0       0          0          0           0       0   \n",
      "...        ...      ...     ...        ...        ...         ...     ...   \n",
      "1652      1653        0       0          0          0           0       0   \n",
      "1653      1654        0       0          0          0           0       1   \n",
      "1654      1655        0       0          0          0           0       1   \n",
      "1655      1656        0       0          0          0           0       1   \n",
      "1656      1657        0       1          0          0           0       0   \n",
      "1657      1658        0       0          0          0           0       0   \n",
      "1658      1659        0       0          0          0           0       1   \n",
      "1659      1660        0       0          0          0           0       0   \n",
      "1660      1661        0       0          0          0           0       0   \n",
      "1661      1662        0       0          0          0           0       0   \n",
      "1662      1663        0       0          0          0           0       0   \n",
      "1663      1664        0       0          0          0           0       1   \n",
      "1664      1665        0       0          0          0           0       0   \n",
      "1665      1666        0       0          0          0           0       0   \n",
      "1666      1667        0       0          0          0           0       0   \n",
      "1667      1668        0       0          0          0           0       1   \n",
      "1668      1669        0       0          0          0           0       0   \n",
      "1669      1670        0       0          0          0           0       1   \n",
      "1670      1671        0       0          0          0           0       0   \n",
      "1671      1672        0       0          0          0           0       0   \n",
      "1672      1673        0       1          0          0           0       0   \n",
      "1673      1674        0       0          0          0           0       0   \n",
      "1674      1675        0       0          0          0           0       0   \n",
      "1675      1676        0       0          0          0           0       0   \n",
      "1676      1677        0       0          0          0           0       0   \n",
      "1677      1678        0       0          0          0           0       0   \n",
      "1678      1679        0       0          0          0           0       0   \n",
      "1679      1680        0       0          0          0           0       0   \n",
      "1680      1681        0       0          0          0           0       1   \n",
      "1681      1682        0       0          0          0           0       0   \n",
      "\n",
      "      Crime  Documentary  Drama  Fantasy  Film-Noir  Horror  Musical  Mystery  \\\n",
      "0         0            0      0        0          0       0        0        0   \n",
      "1         0            0      0        0          0       0        0        0   \n",
      "2         0            0      0        0          0       0        0        0   \n",
      "3         0            0      1        0          0       0        0        0   \n",
      "4         1            0      1        0          0       0        0        0   \n",
      "5         0            0      1        0          0       0        0        0   \n",
      "6         0            0      1        0          0       0        0        0   \n",
      "7         0            0      1        0          0       0        0        0   \n",
      "8         0            0      1        0          0       0        0        0   \n",
      "9         0            0      1        0          0       0        0        0   \n",
      "10        1            0      0        0          0       0        0        0   \n",
      "11        1            0      0        0          0       0        0        0   \n",
      "12        0            0      0        0          0       0        0        0   \n",
      "13        0            0      1        0          0       0        0        0   \n",
      "14        0            0      1        0          0       0        0        0   \n",
      "15        0            0      0        0          0       0        0        0   \n",
      "16        1            0      0        0          0       1        0        0   \n",
      "17        0            0      1        0          0       0        0        0   \n",
      "18        0            0      1        0          0       0        0        0   \n",
      "19        0            0      1        0          0       0        0        0   \n",
      "20        0            0      0        0          0       0        1        0   \n",
      "21        0            0      1        0          0       0        0        0   \n",
      "22        0            0      1        0          0       0        0        0   \n",
      "23        1            0      0        0          0       0        0        0   \n",
      "24        0            0      0        0          0       0        0        0   \n",
      "25        0            0      0        0          0       0        0        0   \n",
      "26        0            0      0        0          0       0        0        0   \n",
      "27        0            0      1        0          0       0        0        0   \n",
      "28        1            0      0        0          0       0        0        0   \n",
      "29        0            0      1        0          0       0        0        0   \n",
      "...     ...          ...    ...      ...        ...     ...      ...      ...   \n",
      "1652      0            0      1        0          0       0        0        0   \n",
      "1653      0            0      0        0          0       0        0        0   \n",
      "1654      0            0      0        0          0       0        0        0   \n",
      "1655      0            0      0        0          0       0        0        0   \n",
      "1656      0            0      1        0          0       0        0        0   \n",
      "1657      0            0      1        0          0       0        0        0   \n",
      "1658      0            0      0        0          0       0        0        0   \n",
      "1659      0            0      1        0          0       0        0        0   \n",
      "1660      0            0      1        0          0       0        0        0   \n",
      "1661      0            0      1        0          0       0        0        0   \n",
      "1662      0            0      1        0          0       0        0        0   \n",
      "1663      0            0      0        0          0       0        0        0   \n",
      "1664      0            0      1        0          0       0        0        0   \n",
      "1665      0            0      1        0          0       0        0        0   \n",
      "1666      0            0      1        0          0       0        0        0   \n",
      "1667      0            0      0        0          0       0        0        0   \n",
      "1668      1            0      1        0          0       0        0        1   \n",
      "1669      0            0      0        0          0       0        0        0   \n",
      "1670      0            0      1        0          0       0        0        0   \n",
      "1671      0            0      1        0          0       0        0        0   \n",
      "1672      0            0      0        0          0       0        0        0   \n",
      "1673      0            0      1        0          0       0        0        0   \n",
      "1674      0            0      1        0          0       0        0        0   \n",
      "1675      0            0      1        0          0       0        0        0   \n",
      "1676      0            0      1        0          0       0        0        0   \n",
      "1677      0            0      1        0          0       0        0        0   \n",
      "1678      0            0      0        0          0       0        0        0   \n",
      "1679      0            0      1        0          0       0        0        0   \n",
      "1680      0            0      0        0          0       0        0        0   \n",
      "1681      0            0      1        0          0       0        0        0   \n",
      "\n",
      "      Romance  Sci-Fi  Thriller  War  Western  \n",
      "0           0       0         0    0        0  \n",
      "1           0       0         1    0        0  \n",
      "2           0       0         1    0        0  \n",
      "3           0       0         0    0        0  \n",
      "4           0       0         1    0        0  \n",
      "5           0       0         0    0        0  \n",
      "6           0       1         0    0        0  \n",
      "7           0       0         0    0        0  \n",
      "8           0       0         0    0        0  \n",
      "9           0       0         0    1        0  \n",
      "10          0       0         1    0        0  \n",
      "11          0       0         1    0        0  \n",
      "12          0       0         0    0        0  \n",
      "13          1       0         0    0        0  \n",
      "14          0       0         0    0        0  \n",
      "15          1       0         0    0        0  \n",
      "16          0       0         1    0        0  \n",
      "17          0       0         0    0        0  \n",
      "18          0       0         0    0        0  \n",
      "19          1       0         0    0        0  \n",
      "20          0       0         1    0        0  \n",
      "21          0       0         0    1        0  \n",
      "22          0       0         1    0        0  \n",
      "23          0       0         0    0        0  \n",
      "24          0       0         0    0        0  \n",
      "25          0       0         0    0        0  \n",
      "26          0       0         0    0        0  \n",
      "27          0       0         1    0        0  \n",
      "28          0       0         0    0        0  \n",
      "29          0       0         0    0        0  \n",
      "...       ...     ...       ...  ...      ...  \n",
      "1652        0       0         0    0        0  \n",
      "1653        0       0         0    0        0  \n",
      "1654        1       0         0    0        0  \n",
      "1655        1       0         0    0        0  \n",
      "1656        0       0         0    0        0  \n",
      "1657        0       0         0    0        0  \n",
      "1658        0       0         0    0        0  \n",
      "1659        0       0         0    0        0  \n",
      "1660        0       0         0    0        0  \n",
      "1661        1       0         0    0        0  \n",
      "1662        0       0         0    1        0  \n",
      "1663        0       0         0    0        0  \n",
      "1664        0       0         0    0        0  \n",
      "1665        0       0         0    0        0  \n",
      "1666        0       0         0    0        0  \n",
      "1667        0       0         0    0        0  \n",
      "1668        0       0         0    0        0  \n",
      "1669        0       0         1    0        0  \n",
      "1670        0       0         0    0        0  \n",
      "1671        0       0         0    0        0  \n",
      "1672        0       0         1    0        0  \n",
      "1673        0       0         0    0        0  \n",
      "1674        0       0         0    0        0  \n",
      "1675        0       0         0    0        0  \n",
      "1676        0       0         0    0        0  \n",
      "1677        0       0         0    0        0  \n",
      "1678        1       0         1    0        0  \n",
      "1679        1       0         0    0        0  \n",
      "1680        0       0         0    0        0  \n",
      "1681        0       0         0    0        0  \n",
      "\n",
      "[1682 rows x 20 columns]\n"
     ]
    }
   ],
   "source": [
    "\n",
    "columns_1 = [\"movie id\", \"movie title\", \"release date\", \"video release date\",\n",
    "              \"IMDb URL\",\"unknown\", \"Action\", \"Adventure\", \"Animation\",\n",
    "              \"Children's\", \"Comedy\" ,\"Crime\" , \"Documentary\", \"Drama\", \"Fantasy\" ,\n",
    "              \"Film-Noir\",\"Horror\" ,\"Musical\", \"Mystery\",\"Romance\", \"Sci-Fi\",\n",
    "              \"Thriller\", \"War\",\"Western\"]\n",
    "# Function to read textfile dataset and load it as a Pandas DataFrame\n",
    "def loadData(file, columns):\n",
    "    df = pd.read_table(file, sep='|', encoding='utf-8')\n",
    "    df.columns = columns\n",
    "    return df\n",
    "\n",
    "#u_data = loadData(r\"/Users/patrick.orourke/Desktop/ml-100k/u.item\",columns)\n",
    "#u_data.head(5)\n",
    "\n",
    "itemdf = pd.read_table(r\"/Users/patrick.orourke/Desktop/ml-100k/u.item\", sep=\"|\", encoding='latin-1', \n",
    "              header=None)\n",
    "itemdf.columns = columns_1\n",
    "itemdf.head()\n",
    "\n",
    "#list() + list(itemdf.columns[5:])\n",
    "selectedCols = [itemdf.columns[0]] + list(itemdf.columns[5:])\n",
    "#[1] + [2, 3]\n",
    "itemdfTemp = itemdf[selectedCols]\n",
    "print(itemdfTemp)"
   ]
  },
  {
   "cell_type": "code",
   "execution_count": 267,
   "metadata": {
    "scrolled": true
   },
   "outputs": [
    {
     "data": {
      "text/plain": [
       "array([[   0,    7,    3,   12],\n",
       "       [   1,    2,   20,   16],\n",
       "       [   2,   10,   11,   22],\n",
       "       ...,\n",
       "       [1679, 1661, 1544, 1440],\n",
       "       [1680, 1667, 1663, 1658],\n",
       "       [1681, 1677, 1676, 1675]])"
      ]
     },
     "execution_count": 267,
     "metadata": {},
     "output_type": "execute_result"
    }
   ],
   "source": [
    "from sklearn.neighbors import NearestNeighbors\n",
    "neigh = NearestNeighbors(metric='cosine', algorithm='brute', n_neighbors=4, n_jobs=-1)\n",
    "neighFit = neigh.fit(itemdfTemp) \n",
    "distance, neighb = neighFit.kneighbors(itemdfTemp)\n",
    "neighb.shape\n",
    "neighb"
   ]
  },
  {
   "cell_type": "code",
   "execution_count": 283,
   "metadata": {},
   "outputs": [
    {
     "name": "stdout",
     "output_type": "stream",
     "text": [
      "Want to predict movie:  178\n",
      "Similar movies based on movie genres:  [174 433 551]\n"
     ]
    }
   ],
   "source": [
    "# Want to find the movies similar to movie_ID = 99 based on similar movie genres\n",
    "movie_list = u_data[\"item_id\"].tolist()\n",
    "\n",
    "random_index = np.random.randint(low = 0, high=len(movie_list), size = 1)[0]\n",
    "\n",
    "#random_index = np.random.randint(low = 0, high=len(user_list), size = 1)[0]\n",
    "random_movie_id = movie_list[random_index]\n",
    "print(\"Want to predict movie: \", random_movie_id)\n",
    "similar_movies = neighb[random_movie_id,1::]\n",
    "print(\"Similar movies based on movie genres: \", similar_movies)\n",
    "\n",
    "#tempData[tempData[\"user_id\"] == random_user_id]"
   ]
  },
  {
   "cell_type": "code",
   "execution_count": 282,
   "metadata": {},
   "outputs": [
    {
     "data": {
      "text/html": [
       "<div>\n",
       "<style scoped>\n",
       "    .dataframe tbody tr th:only-of-type {\n",
       "        vertical-align: middle;\n",
       "    }\n",
       "\n",
       "    .dataframe tbody tr th {\n",
       "        vertical-align: top;\n",
       "    }\n",
       "\n",
       "    .dataframe thead th {\n",
       "        text-align: right;\n",
       "    }\n",
       "</style>\n",
       "<table border=\"1\" class=\"dataframe\">\n",
       "  <thead>\n",
       "    <tr style=\"text-align: right;\">\n",
       "      <th></th>\n",
       "      <th>user_id</th>\n",
       "      <th>item_id</th>\n",
       "      <th>rating</th>\n",
       "      <th>timestamp</th>\n",
       "    </tr>\n",
       "  </thead>\n",
       "  <tbody>\n",
       "    <tr>\n",
       "      <th>120</th>\n",
       "      <td>128</td>\n",
       "      <td>485</td>\n",
       "      <td>3</td>\n",
       "      <td>879966895</td>\n",
       "    </tr>\n",
       "  </tbody>\n",
       "</table>\n",
       "</div>"
      ],
      "text/plain": [
       "     user_id  item_id  rating  timestamp\n",
       "120      128      485       3  879966895"
      ]
     },
     "execution_count": 282,
     "metadata": {},
     "output_type": "execute_result"
    }
   ],
   "source": [
    "u_data.loc[[120]]"
   ]
  },
  {
   "cell_type": "code",
   "execution_count": 270,
   "metadata": {},
   "outputs": [],
   "source": [
    "# Use Surprise Python Package for Recommender Systems"
   ]
  },
  {
   "cell_type": "code",
   "execution_count": 271,
   "metadata": {},
   "outputs": [],
   "source": [
    "from surprise import BaselineOnly\n",
    "from surprise import Dataset\n",
    "from surprise import Reader\n",
    "from surprise.model_selection import cross_validate\n",
    "from surprise.prediction_algorithms import *\n",
    "\n",
    "# path to dataset file\n",
    "file_path = os.path.expanduser(\"/Users/patrick.orourke/Desktop/ml-100k/u.data\")\n",
    "\n",
    "reader = Reader(rating_scale=(1, 5))\n",
    "data = Dataset.load_from_df(u_data[['user_id', 'item_id', 'rating']], reader)"
   ]
  },
  {
   "cell_type": "code",
   "execution_count": 106,
   "metadata": {},
   "outputs": [],
   "source": [
    "# Use the famous SVD algorithm.\n",
    "algo = SVD()"
   ]
  },
  {
   "cell_type": "code",
   "execution_count": 107,
   "metadata": {},
   "outputs": [],
   "source": [
    "# Use “rmse” as our accuracy metric for the predictions."
   ]
  },
  {
   "cell_type": "code",
   "execution_count": 108,
   "metadata": {},
   "outputs": [
    {
     "name": "stdout",
     "output_type": "stream",
     "text": [
      "Estimating biases using als...\n",
      "Computing the msd similarity matrix...\n",
      "Done computing similarity matrix.\n",
      "Estimating biases using als...\n",
      "Computing the msd similarity matrix...\n",
      "Done computing similarity matrix.\n",
      "Estimating biases using als...\n",
      "Computing the msd similarity matrix...\n",
      "Done computing similarity matrix.\n",
      "Computing the msd similarity matrix...\n",
      "Done computing similarity matrix.\n",
      "Computing the msd similarity matrix...\n",
      "Done computing similarity matrix.\n",
      "Computing the msd similarity matrix...\n",
      "Done computing similarity matrix.\n",
      "Computing the msd similarity matrix...\n",
      "Done computing similarity matrix.\n",
      "Computing the msd similarity matrix...\n",
      "Done computing similarity matrix.\n",
      "Computing the msd similarity matrix...\n",
      "Done computing similarity matrix.\n",
      "Computing the msd similarity matrix...\n",
      "Done computing similarity matrix.\n",
      "Computing the msd similarity matrix...\n",
      "Done computing similarity matrix.\n",
      "Computing the msd similarity matrix...\n",
      "Done computing similarity matrix.\n",
      "Estimating biases using als...\n",
      "Estimating biases using als...\n",
      "Estimating biases using als...\n"
     ]
    },
    {
     "data": {
      "text/html": [
       "<div>\n",
       "<style scoped>\n",
       "    .dataframe tbody tr th:only-of-type {\n",
       "        vertical-align: middle;\n",
       "    }\n",
       "\n",
       "    .dataframe tbody tr th {\n",
       "        vertical-align: top;\n",
       "    }\n",
       "\n",
       "    .dataframe thead th {\n",
       "        text-align: right;\n",
       "    }\n",
       "</style>\n",
       "<table border=\"1\" class=\"dataframe\">\n",
       "  <thead>\n",
       "    <tr style=\"text-align: right;\">\n",
       "      <th></th>\n",
       "      <th>test_rmse</th>\n",
       "      <th>fit_time</th>\n",
       "      <th>test_time</th>\n",
       "    </tr>\n",
       "    <tr>\n",
       "      <th>Algorithm</th>\n",
       "      <th></th>\n",
       "      <th></th>\n",
       "      <th></th>\n",
       "    </tr>\n",
       "  </thead>\n",
       "  <tbody>\n",
       "    <tr>\n",
       "      <th>SVDpp</th>\n",
       "      <td>0.926887</td>\n",
       "      <td>116.763546</td>\n",
       "      <td>4.446436</td>\n",
       "    </tr>\n",
       "    <tr>\n",
       "      <th>KNNBaseline</th>\n",
       "      <td>0.935854</td>\n",
       "      <td>0.664049</td>\n",
       "      <td>5188.846780</td>\n",
       "    </tr>\n",
       "    <tr>\n",
       "      <th>SVD</th>\n",
       "      <td>0.945629</td>\n",
       "      <td>3.672202</td>\n",
       "      <td>0.383481</td>\n",
       "    </tr>\n",
       "    <tr>\n",
       "      <th>BaselineOnly</th>\n",
       "      <td>0.947246</td>\n",
       "      <td>0.175219</td>\n",
       "      <td>0.153262</td>\n",
       "    </tr>\n",
       "    <tr>\n",
       "      <th>SlopeOne</th>\n",
       "      <td>0.948227</td>\n",
       "      <td>0.547040</td>\n",
       "      <td>575.625504</td>\n",
       "    </tr>\n",
       "    <tr>\n",
       "      <th>KNNWithZScore</th>\n",
       "      <td>0.954966</td>\n",
       "      <td>0.288023</td>\n",
       "      <td>5.195500</td>\n",
       "    </tr>\n",
       "    <tr>\n",
       "      <th>KNNWithMeans</th>\n",
       "      <td>0.956876</td>\n",
       "      <td>0.230621</td>\n",
       "      <td>4.803603</td>\n",
       "    </tr>\n",
       "    <tr>\n",
       "      <th>CoClustering</th>\n",
       "      <td>0.975203</td>\n",
       "      <td>1.299911</td>\n",
       "      <td>0.164905</td>\n",
       "    </tr>\n",
       "    <tr>\n",
       "      <th>NMF</th>\n",
       "      <td>0.978076</td>\n",
       "      <td>13844.563609</td>\n",
       "      <td>0.872383</td>\n",
       "    </tr>\n",
       "    <tr>\n",
       "      <th>KNNBasic</th>\n",
       "      <td>0.989194</td>\n",
       "      <td>0.220470</td>\n",
       "      <td>4.790016</td>\n",
       "    </tr>\n",
       "    <tr>\n",
       "      <th>NormalPredictor</th>\n",
       "      <td>1.518387</td>\n",
       "      <td>0.098146</td>\n",
       "      <td>0.182598</td>\n",
       "    </tr>\n",
       "  </tbody>\n",
       "</table>\n",
       "</div>"
      ],
      "text/plain": [
       "                 test_rmse      fit_time    test_time\n",
       "Algorithm                                            \n",
       "SVDpp             0.926887    116.763546     4.446436\n",
       "KNNBaseline       0.935854      0.664049  5188.846780\n",
       "SVD               0.945629      3.672202     0.383481\n",
       "BaselineOnly      0.947246      0.175219     0.153262\n",
       "SlopeOne          0.948227      0.547040   575.625504\n",
       "KNNWithZScore     0.954966      0.288023     5.195500\n",
       "KNNWithMeans      0.956876      0.230621     4.803603\n",
       "CoClustering      0.975203      1.299911     0.164905\n",
       "NMF               0.978076  13844.563609     0.872383\n",
       "KNNBasic          0.989194      0.220470     4.790016\n",
       "NormalPredictor   1.518387      0.098146     0.182598"
      ]
     },
     "execution_count": 108,
     "metadata": {},
     "output_type": "execute_result"
    }
   ],
   "source": [
    "benchmark = []\n",
    "# Iterate over all algorithms\n",
    "for algorithm in [SVD(), SVDpp(), SlopeOne(), NMF(), NormalPredictor(), KNNBaseline(), KNNBasic(), KNNWithMeans(), KNNWithZScore(), BaselineOnly(), CoClustering()]:\n",
    "    # Perform cross validation\n",
    "    results = cross_validate(algorithm, data, measures=['RMSE'], cv=3, verbose=False)\n",
    "    \n",
    "    # Get results & append algorithm name\n",
    "    tmp = pd.DataFrame.from_dict(results).mean(axis=0)\n",
    "    tmp = tmp.append(pd.Series([str(algorithm).split(' ')[0].split('.')[-1]], index=['Algorithm']))\n",
    "    benchmark.append(tmp)\n",
    "    \n",
    "pd.DataFrame(benchmark).set_index('Algorithm').sort_values('test_rmse')   "
   ]
  },
  {
   "cell_type": "code",
   "execution_count": null,
   "metadata": {},
   "outputs": [],
   "source": []
  },
  {
   "cell_type": "code",
   "execution_count": null,
   "metadata": {},
   "outputs": [],
   "source": []
  }
 ],
 "metadata": {
  "kernelspec": {
   "display_name": "Python 3",
   "language": "python",
   "name": "python3"
  },
  "language_info": {
   "codemirror_mode": {
    "name": "ipython",
    "version": 3
   },
   "file_extension": ".py",
   "mimetype": "text/x-python",
   "name": "python",
   "nbconvert_exporter": "python",
   "pygments_lexer": "ipython3",
   "version": "3.7.1"
  }
 },
 "nbformat": 4,
 "nbformat_minor": 2
}
